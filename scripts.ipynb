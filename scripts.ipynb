{
  "nbformat": 4,
  "nbformat_minor": 0,
  "metadata": {
    "colab": {
      "name": "Untitled4.ipynb",
      "provenance": []
    },
    "kernelspec": {
      "name": "python3",
      "display_name": "Python 3"
    },
    "language_info": {
      "name": "python"
    }
  },
  "cells": [
    {
      "cell_type": "code",
      "execution_count": 10,
      "metadata": {
        "colab": {
          "base_uri": "https://localhost:8080/"
        },
        "id": "hywB07IShncC",
        "outputId": "0d1c5f8a-d153-44da-fcd2-0e89e93594df"
      },
      "outputs": [
        {
          "output_type": "stream",
          "name": "stdout",
          "text": [
            "Overwriting script.py\n"
          ]
        }
      ],
      "source": [
        "%%writefile script.py\n",
        "n1= float(input(\"please enter the first value :\"))\n",
        "n2= float(input(\"please enter the second value :\"))\n",
        "writing script.py\n",
        "\n"
      ]
    },
    {
      "cell_type": "code",
      "source": [
        "%%writefile script1.py\n",
        "if n1>= n2:\n",
        "  if n1 == n2:\n",
        "    print (\"Both numbers are equal.\")\n",
        "  else:\n",
        "    print (n1)\n",
        "else: print(n2)\n",
        "Writing greaternumberscript.py"
      ],
      "metadata": {
        "colab": {
          "base_uri": "https://localhost:8080/"
        },
        "id": "yXxQEdBNiqmM",
        "outputId": "ceb039be-574f-4511-9f57-d8fab8143372"
      },
      "execution_count": 11,
      "outputs": [
        {
          "output_type": "stream",
          "name": "stdout",
          "text": [
            "Overwriting script1.py\n"
          ]
        }
      ]
    },
    {
      "cell_type": "code",
      "source": [
        "%%writefile script2.py\n",
        "\n",
        "n1 = int(input(\"Enter first number:\"))\n",
        "n2 = int(input(\"Enter second number:\"))\n",
        "\n",
        "\n",
        "if n1<= n2:\n",
        "  if n1 == n2:\n",
        "    print (\"Both numbers are equal.\")\n",
        "  else:\n",
        "    print (n1)\n",
        "else: print(n2)\n",
        "Writing smallernumberscript.py"
      ],
      "metadata": {
        "colab": {
          "base_uri": "https://localhost:8080/"
        },
        "id": "vRYn7uAQkTPa",
        "outputId": "1c9de6e6-0a7e-4155-a8da-23911a2f3a3a"
      },
      "execution_count": 12,
      "outputs": [
        {
          "output_type": "stream",
          "name": "stdout",
          "text": [
            "Overwriting script2.py\n"
          ]
        }
      ]
    }
  ]
}