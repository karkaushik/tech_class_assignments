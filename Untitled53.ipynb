{
  "nbformat": 4,
  "nbformat_minor": 0,
  "metadata": {
    "colab": {
      "provenance": [],
      "authorship_tag": "ABX9TyOrEmw1dIJtCaWz0v3N/wiM",
      "include_colab_link": true
    },
    "kernelspec": {
      "name": "python3",
      "display_name": "Python 3"
    },
    "language_info": {
      "name": "python"
    }
  },
  "cells": [
    {
      "cell_type": "markdown",
      "metadata": {
        "id": "view-in-github",
        "colab_type": "text"
      },
      "source": [
        "<a href=\"https://colab.research.google.com/github/karkaushik/tech_class_assignments/blob/main/Untitled53.ipynb\" target=\"_parent\"><img src=\"https://colab.research.google.com/assets/colab-badge.svg\" alt=\"Open In Colab\"/></a>"
      ]
    },
    {
      "cell_type": "markdown",
      "source": [
        "# Take 2 numbers as the range and print all the prime numbers in the range"
      ],
      "metadata": {
        "id": "HQWv4j4SfZFe"
      }
    },
    {
      "cell_type": "code",
      "source": [
        "num1 = int(input(\"Enter the first number: \"))\n",
        "\n",
        "num2 = int(input(\"Enter the second number: \"))\n",
        "\n",
        "\n",
        "\n",
        "my_list = []\n",
        "\n",
        "for i in range(num1,num2 + 1):\n",
        "\n",
        "  my_list.append(i)\n",
        "\n",
        "print(\"Your list: \",my_list)"
      ],
      "metadata": {
        "colab": {
          "base_uri": "https://localhost:8080/"
        },
        "id": "9jTAnkoEffSE",
        "outputId": "04dd0f0c-9b9c-4423-925f-d0364cee873d"
      },
      "execution_count": 1,
      "outputs": [
        {
          "output_type": "stream",
          "name": "stdout",
          "text": [
            "Enter the first number: 1\n",
            "Enter the second number: 11\n",
            "Your list:  [1, 2, 3, 4, 5, 6, 7, 8, 9, 10, 11]\n"
          ]
        }
      ]
    },
    {
      "cell_type": "code",
      "source": [
        "def isprime(n):\n",
        "\n",
        "  check = False \n",
        "\n",
        "  if n > 1:\n",
        "\n",
        "   for i in range(2,n):\n",
        "\n",
        "     if n % i == 0:\n",
        "\n",
        "       check = True\n",
        "\n",
        "       break\n",
        "\n",
        "     elif check == False:\n",
        "\n",
        "        print(n)\n",
        "\n",
        "\n",
        "\n",
        "  else:\n",
        "\n",
        "   print(n)\n",
        "\n"
      ],
      "metadata": {
        "id": "szlPmvv8gD7G"
      },
      "execution_count": 6,
      "outputs": []
    },
    {
      "cell_type": "code",
      "source": [
        "# Printing the prime numbers in the list\n",
        "\n",
        "for i in my_list:\n",
        "\n",
        "  isprime(i)"
      ],
      "metadata": {
        "colab": {
          "base_uri": "https://localhost:8080/"
        },
        "id": "nchsf54ogetZ",
        "outputId": "dcbd0364-e4ef-4794-bfe4-a00ea1b38f9d"
      },
      "execution_count": 3,
      "outputs": [
        {
          "output_type": "stream",
          "name": "stdout",
          "text": [
            "1\n",
            "2\n",
            "3\n",
            "5\n",
            "7\n",
            "11\n"
          ]
        }
      ]
    },
    {
      "cell_type": "markdown",
      "source": [
        " Create a list of numbers and arrange in ascending and descending order"
      ],
      "metadata": {
        "id": "8e-g1XYugiCA"
      }
    },
    {
      "cell_type": "code",
      "source": [
        "l = int(input(\"Enter the length of the list: \"))\n",
        "\n",
        "my_list = []\n",
        "\n",
        "for i in range(l):\n",
        "\n",
        "  inp = int(input(\"Enter element: \"))\n",
        "\n",
        "  my_list.append(inp)\n",
        "\n",
        "\n",
        "\n",
        "print(my_list)\n",
        "\n",
        "\n",
        "\n",
        "print(\"Your list in ascending order: \",sorted(my_list))\n",
        "\n",
        "print(\"Your list in descending order: \",sorted(my_list,reverse=True))"
      ],
      "metadata": {
        "colab": {
          "base_uri": "https://localhost:8080/"
        },
        "id": "vXtOOItwglif",
        "outputId": "09aa78fa-79d9-4cd0-ba94-3d12fdcef90c"
      },
      "execution_count": 4,
      "outputs": [
        {
          "output_type": "stream",
          "name": "stdout",
          "text": [
            "Enter the length of the list: 8\n",
            "Enter element: 3\n",
            "Enter element: 2\n",
            "Enter element: 1\n",
            "Enter element: 5\n",
            "Enter element: 8\n",
            "Enter element: 3\n",
            "Enter element: 9\n",
            "Enter element: 78\n",
            "[3, 2, 1, 5, 8, 3, 9, 78]\n",
            "Your list in ascending order:  [1, 2, 3, 3, 5, 8, 9, 78]\n",
            "Your list in descending order:  [78, 9, 8, 5, 3, 3, 2, 1]\n"
          ]
        }
      ]
    }
  ]
}