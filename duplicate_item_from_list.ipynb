{
  "nbformat": 4,
  "nbformat_minor": 0,
  "metadata": {
    "colab": {
      "name": "Untitled16.ipynb",
      "provenance": []
    },
    "kernelspec": {
      "name": "python3",
      "display_name": "Python 3"
    },
    "language_info": {
      "name": "python"
    }
  },
  "cells": [
    {
      "cell_type": "code",
      "execution_count": null,
      "metadata": {
        "id": "qrQZMGHamv_H"
      },
      "outputs": [],
      "source": [
        ""
      ]
    },
    {
      "cell_type": "markdown",
      "source": [
        "list\n"
      ],
      "metadata": {
        "id": "juyUefojmzYk"
      }
    },
    {
      "cell_type": "code",
      "source": [
        "def Remove(duplicate_num):\n",
        "    list = []\n",
        "    for num in duplicate_num:\n",
        "        if num not in list:\n",
        "            list.append(num)\n",
        "    return list\n",
        "duplicate_num = [1,1,3,3,2,5,6,7,8]\n",
        "print(Remove(duplicate_num))\n"
      ],
      "metadata": {
        "colab": {
          "base_uri": "https://localhost:8080/"
        },
        "id": "PLGr-Uyzm0sx",
        "outputId": "ecb58640-e1cc-4d5c-a169-b1b1936bdff0"
      },
      "execution_count": 9,
      "outputs": [
        {
          "output_type": "stream",
          "name": "stdout",
          "text": [
            "[1, 3, 2, 5, 6, 7, 8]\n"
          ]
        }
      ]
    }
  ]
}