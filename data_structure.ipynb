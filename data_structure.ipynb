{
  "nbformat": 4,
  "nbformat_minor": 0,
  "metadata": {
    "colab": {
      "name": "Untitled14.ipynb",
      "provenance": []
    },
    "kernelspec": {
      "name": "python3",
      "display_name": "Python 3"
    },
    "language_info": {
      "name": "python"
    }
  },
  "cells": [
    {
      "cell_type": "code",
      "execution_count": null,
      "metadata": {
        "id": "4ZzBJ2TwoFYz"
      },
      "outputs": [],
      "source": [
        "#data structure\n",
        "#list"
      ]
    },
    {
      "cell_type": "code",
      "source": [
        "dir(list)"
      ],
      "metadata": {
        "colab": {
          "base_uri": "https://localhost:8080/"
        },
        "id": "SFlGJYjFpEa8",
        "outputId": "0f2045b2-2ee2-43c4-e17b-37b851c37885"
      },
      "execution_count": 1,
      "outputs": [
        {
          "output_type": "execute_result",
          "data": {
            "text/plain": [
              "['__add__',\n",
              " '__class__',\n",
              " '__contains__',\n",
              " '__delattr__',\n",
              " '__delitem__',\n",
              " '__dir__',\n",
              " '__doc__',\n",
              " '__eq__',\n",
              " '__format__',\n",
              " '__ge__',\n",
              " '__getattribute__',\n",
              " '__getitem__',\n",
              " '__gt__',\n",
              " '__hash__',\n",
              " '__iadd__',\n",
              " '__imul__',\n",
              " '__init__',\n",
              " '__init_subclass__',\n",
              " '__iter__',\n",
              " '__le__',\n",
              " '__len__',\n",
              " '__lt__',\n",
              " '__mul__',\n",
              " '__ne__',\n",
              " '__new__',\n",
              " '__reduce__',\n",
              " '__reduce_ex__',\n",
              " '__repr__',\n",
              " '__reversed__',\n",
              " '__rmul__',\n",
              " '__setattr__',\n",
              " '__setitem__',\n",
              " '__sizeof__',\n",
              " '__str__',\n",
              " '__subclasshook__',\n",
              " 'append',\n",
              " 'clear',\n",
              " 'copy',\n",
              " 'count',\n",
              " 'extend',\n",
              " 'index',\n",
              " 'insert',\n",
              " 'pop',\n",
              " 'remove',\n",
              " 'reverse',\n",
              " 'sort']"
            ]
          },
          "metadata": {},
          "execution_count": 1
        }
      ]
    },
    {
      "cell_type": "code",
      "source": [
        "l1=[\"red\",\"blue\",\"vaseline\",\"ludo\",\"cricket\"]\n",
        "\n",
        "l1.append(\"gun\")\n",
        "print(l1)\n",
        "#add items to the end of the list"
      ],
      "metadata": {
        "colab": {
          "base_uri": "https://localhost:8080/"
        },
        "id": "Lvqi9rvsqcAR",
        "outputId": "60c1e48b-3856-4341-f2f9-e379da8120bb"
      },
      "execution_count": 7,
      "outputs": [
        {
          "output_type": "stream",
          "name": "stdout",
          "text": [
            "['red', 'blue', 'vaseline', 'ludo', 'cricket', 'gun']\n"
          ]
        }
      ]
    },
    {
      "cell_type": "markdown",
      "source": [
        "1.copy the element of l1 to l3"
      ],
      "metadata": {
        "id": "v6xnnGwZrr5G"
      }
    },
    {
      "cell_type": "code",
      "source": [
        "l3=l1.copy()\n",
        "l3"
      ],
      "metadata": {
        "colab": {
          "base_uri": "https://localhost:8080/"
        },
        "id": "ytDWQvdRr_LF",
        "outputId": "eefe9a1d-c218-4c85-df70-c55fc561d18e"
      },
      "execution_count": 13,
      "outputs": [
        {
          "output_type": "execute_result",
          "data": {
            "text/plain": [
              "['red', 'blue', 'vaseline', 'ludo', 'cricket', 'gun']"
            ]
          },
          "metadata": {},
          "execution_count": 13
        }
      ]
    },
    {
      "cell_type": "markdown",
      "source": [
        "2.remove element from the l1 which is specified\n"
      ],
      "metadata": {
        "id": "kUPLDSr2ssum"
      }
    },
    {
      "cell_type": "code",
      "source": [
        "l1.remove(\"red\")\n"
      ],
      "metadata": {
        "colab": {
          "base_uri": "https://localhost:8080/",
          "height": 183
        },
        "id": "S-SX4M_ZsxLz",
        "outputId": "f34d9519-73f8-4709-d725-8f7167884982"
      },
      "execution_count": 17,
      "outputs": [
        {
          "output_type": "error",
          "ename": "ValueError",
          "evalue": "ignored",
          "traceback": [
            "\u001b[0;31m---------------------------------------------------------------------------\u001b[0m",
            "\u001b[0;31mValueError\u001b[0m                                Traceback (most recent call last)",
            "\u001b[0;32m<ipython-input-17-69d7c1efd66b>\u001b[0m in \u001b[0;36m<module>\u001b[0;34m\u001b[0m\n\u001b[0;32m----> 1\u001b[0;31m \u001b[0ml1\u001b[0m\u001b[0;34m.\u001b[0m\u001b[0mremove\u001b[0m\u001b[0;34m(\u001b[0m\u001b[0;34m\"red\"\u001b[0m\u001b[0;34m)\u001b[0m\u001b[0;34m\u001b[0m\u001b[0;34m\u001b[0m\u001b[0m\n\u001b[0m\u001b[1;32m      2\u001b[0m \u001b[0ml1\u001b[0m\u001b[0;34m\u001b[0m\u001b[0;34m\u001b[0m\u001b[0m\n",
            "\u001b[0;31mValueError\u001b[0m: list.remove(x): x not in list"
          ]
        }
      ]
    },
    {
      "cell_type": "code",
      "source": [
        "l1"
      ],
      "metadata": {
        "colab": {
          "base_uri": "https://localhost:8080/"
        },
        "id": "WfwSyNiitTqB",
        "outputId": "840e85a4-7430-4975-9ccb-009607cd1aaa"
      },
      "execution_count": 18,
      "outputs": [
        {
          "output_type": "execute_result",
          "data": {
            "text/plain": [
              "['blue', 'vaseline', 'ludo', 'cricket', 'gun']"
            ]
          },
          "metadata": {},
          "execution_count": 18
        }
      ]
    },
    {
      "cell_type": "markdown",
      "source": [
        "3.count the items uniquely"
      ],
      "metadata": {
        "id": "Vp4dfBGqtfW7"
      }
    },
    {
      "cell_type": "code",
      "source": [
        "l1.count('blue')"
      ],
      "metadata": {
        "colab": {
          "base_uri": "https://localhost:8080/"
        },
        "id": "KmNNYLs6tmWJ",
        "outputId": "e9bfa6e1-5680-4972-8323-877cfad70de4"
      },
      "execution_count": 19,
      "outputs": [
        {
          "output_type": "execute_result",
          "data": {
            "text/plain": [
              "1"
            ]
          },
          "metadata": {},
          "execution_count": 19
        }
      ]
    },
    {
      "cell_type": "markdown",
      "source": [
        "4.to know the index of a particular item in the list"
      ],
      "metadata": {
        "id": "0K3i-zsptsf3"
      }
    },
    {
      "cell_type": "code",
      "source": [
        "l1.index('vaseline')"
      ],
      "metadata": {
        "colab": {
          "base_uri": "https://localhost:8080/"
        },
        "id": "oyCYva5cuISO",
        "outputId": "a0dff4b3-6a41-4f61-ec80-c5e2ab646add"
      },
      "execution_count": 20,
      "outputs": [
        {
          "output_type": "execute_result",
          "data": {
            "text/plain": [
              "1"
            ]
          },
          "metadata": {},
          "execution_count": 20
        }
      ]
    },
    {
      "cell_type": "markdown",
      "source": [
        "5.item insert at a specific index location"
      ],
      "metadata": {
        "id": "qLxKu54KuPa2"
      }
    },
    {
      "cell_type": "code",
      "source": [
        "l1.insert(3,'ball')\n",
        "l1"
      ],
      "metadata": {
        "colab": {
          "base_uri": "https://localhost:8080/"
        },
        "id": "UCkrPgaTua6S",
        "outputId": "0c6bb430-f3cc-41e8-b216-06b4ae3beed4"
      },
      "execution_count": 22,
      "outputs": [
        {
          "output_type": "execute_result",
          "data": {
            "text/plain": [
              "['blue', 'vaseline', 'ludo', 'ball', 'ball', 'cricket', 'gun']"
            ]
          },
          "metadata": {},
          "execution_count": 22
        }
      ]
    },
    {
      "cell_type": "markdown",
      "source": [
        "6.joining a list with another list"
      ],
      "metadata": {
        "id": "1uHPEhjZupZt"
      }
    },
    {
      "cell_type": "code",
      "source": [
        "l4=[2,4,6]\n",
        "l5=[3,6,8]\n",
        "\n",
        "l4.extend(l5)\n",
        "l4"
      ],
      "metadata": {
        "colab": {
          "base_uri": "https://localhost:8080/"
        },
        "id": "48WF9R35u6Lh",
        "outputId": "63be51f7-d484-461a-9e8f-5df8a0d5ba94"
      },
      "execution_count": 26,
      "outputs": [
        {
          "output_type": "execute_result",
          "data": {
            "text/plain": [
              "[2, 4, 6, 3, 6, 8]"
            ]
          },
          "metadata": {},
          "execution_count": 26
        }
      ]
    },
    {
      "cell_type": "markdown",
      "source": [
        "7.remove the last item from the list"
      ],
      "metadata": {
        "id": "bofD7l4QvnBe"
      }
    },
    {
      "cell_type": "code",
      "source": [
        "l4.pop()\n",
        "l4"
      ],
      "metadata": {
        "colab": {
          "base_uri": "https://localhost:8080/"
        },
        "id": "9x28JhXpv6LM",
        "outputId": "8a8ebbd2-b916-46d8-8844-ab23a843b68c"
      },
      "execution_count": 28,
      "outputs": [
        {
          "output_type": "execute_result",
          "data": {
            "text/plain": [
              "[2, 4, 6, 3]"
            ]
          },
          "metadata": {},
          "execution_count": 28
        }
      ]
    },
    {
      "cell_type": "markdown",
      "source": [
        "8.add items to the end of the list"
      ],
      "metadata": {
        "id": "XdSIRrikxhfe"
      }
    },
    {
      "cell_type": "code",
      "source": [
        "l4.append('wicket')\n",
        "l4"
      ],
      "metadata": {
        "colab": {
          "base_uri": "https://localhost:8080/"
        },
        "id": "4lyfI9WNxkau",
        "outputId": "ceaa2e22-283b-48d4-cc71-240b8b8b956f"
      },
      "execution_count": 30,
      "outputs": [
        {
          "output_type": "execute_result",
          "data": {
            "text/plain": [
              "[2, 4, 6, 3, 'wicket', 'wicket']"
            ]
          },
          "metadata": {},
          "execution_count": 30
        }
      ]
    },
    {
      "cell_type": "markdown",
      "source": [
        "9.sort values under list by the ascending order"
      ],
      "metadata": {
        "id": "T7alQnzIx69q"
      }
    },
    {
      "cell_type": "code",
      "source": [
        "l6=[-43,65,-34,-5,67,-9]\n",
        "\n",
        "l6.sort()\n",
        "l6"
      ],
      "metadata": {
        "colab": {
          "base_uri": "https://localhost:8080/"
        },
        "id": "fwKDAENIx-Nt",
        "outputId": "fad34fc7-6fee-480d-a2da-534f1f0c2985"
      },
      "execution_count": 39,
      "outputs": [
        {
          "output_type": "execute_result",
          "data": {
            "text/plain": [
              "[-43, -34, -9, -5, 65, 67]"
            ]
          },
          "metadata": {},
          "execution_count": 39
        }
      ]
    },
    {
      "cell_type": "markdown",
      "source": [
        "10.reverse the in the list"
      ],
      "metadata": {
        "id": "ndaCitU2y3LF"
      }
    },
    {
      "cell_type": "code",
      "source": [
        "l6.reverse()\n",
        "l6"
      ],
      "metadata": {
        "colab": {
          "base_uri": "https://localhost:8080/"
        },
        "id": "ubiR0GWbyiV4",
        "outputId": "0eb5e98e-fbfe-4b31-c5f7-948f368968c2"
      },
      "execution_count": 42,
      "outputs": [
        {
          "output_type": "execute_result",
          "data": {
            "text/plain": [
              "[67, 65, -5, -9, -34, -43]"
            ]
          },
          "metadata": {},
          "execution_count": 42
        }
      ]
    },
    {
      "cell_type": "markdown",
      "source": [
        "11.clean all the value in the list"
      ],
      "metadata": {
        "id": "zMjIVkgczd8g"
      }
    },
    {
      "cell_type": "code",
      "source": [
        "l4.clear()\n",
        "l4"
      ],
      "metadata": {
        "colab": {
          "base_uri": "https://localhost:8080/"
        },
        "id": "B7q65xRXyi4p",
        "outputId": "7f73c565-05b2-4726-c80e-379454f9ca33"
      },
      "execution_count": 45,
      "outputs": [
        {
          "output_type": "execute_result",
          "data": {
            "text/plain": [
              "[]"
            ]
          },
          "metadata": {},
          "execution_count": 45
        }
      ]
    },
    {
      "cell_type": "code",
      "source": [
        "# dictionary(data structure)\n",
        "dir(dict)"
      ],
      "metadata": {
        "colab": {
          "base_uri": "https://localhost:8080/"
        },
        "id": "AYJvtzllz_2D",
        "outputId": "d9960feb-4684-4505-b5bf-38176d0c731c"
      },
      "execution_count": 46,
      "outputs": [
        {
          "output_type": "execute_result",
          "data": {
            "text/plain": [
              "['__class__',\n",
              " '__contains__',\n",
              " '__delattr__',\n",
              " '__delitem__',\n",
              " '__dir__',\n",
              " '__doc__',\n",
              " '__eq__',\n",
              " '__format__',\n",
              " '__ge__',\n",
              " '__getattribute__',\n",
              " '__getitem__',\n",
              " '__gt__',\n",
              " '__hash__',\n",
              " '__init__',\n",
              " '__init_subclass__',\n",
              " '__iter__',\n",
              " '__le__',\n",
              " '__len__',\n",
              " '__lt__',\n",
              " '__ne__',\n",
              " '__new__',\n",
              " '__reduce__',\n",
              " '__reduce_ex__',\n",
              " '__repr__',\n",
              " '__setattr__',\n",
              " '__setitem__',\n",
              " '__sizeof__',\n",
              " '__str__',\n",
              " '__subclasshook__',\n",
              " 'clear',\n",
              " 'copy',\n",
              " 'fromkeys',\n",
              " 'get',\n",
              " 'items',\n",
              " 'keys',\n",
              " 'pop',\n",
              " 'popitem',\n",
              " 'setdefault',\n",
              " 'update',\n",
              " 'values']"
            ]
          },
          "metadata": {},
          "execution_count": 46
        }
      ]
    },
    {
      "cell_type": "code",
      "source": [
        "d1={\"place\":\"kolkata\", \"state\":\"wb\", \"name\":\"kaushik\", \"play\":\"football\", \"code\":123}"
      ],
      "metadata": {
        "id": "yCGugJ6O001x"
      },
      "execution_count": 47,
      "outputs": []
    },
    {
      "cell_type": "markdown",
      "source": [
        "1.copy the dictionary into another dictionary(duplicate)"
      ],
      "metadata": {
        "id": "DYYhlGoh1Q5s"
      }
    },
    {
      "cell_type": "code",
      "source": [
        "d2=d1.copy()\n",
        "d2"
      ],
      "metadata": {
        "colab": {
          "base_uri": "https://localhost:8080/"
        },
        "id": "h_N1J_XF1XMa",
        "outputId": "0d76f02a-4b2a-4bc1-bc2e-c8ada9dda3ac"
      },
      "execution_count": 49,
      "outputs": [
        {
          "output_type": "execute_result",
          "data": {
            "text/plain": [
              "{'place': 'kolkata',\n",
              " 'state': 'wb',\n",
              " 'name': 'kaushik',\n",
              " 'play': 'football',\n",
              " 'code': 123}"
            ]
          },
          "metadata": {},
          "execution_count": 49
        }
      ]
    },
    {
      "cell_type": "markdown",
      "source": [
        "2.to get the values of the appropriate key"
      ],
      "metadata": {
        "id": "VtdCbU4Y1kqf"
      }
    },
    {
      "cell_type": "code",
      "source": [
        "d1.get(\"state\")"
      ],
      "metadata": {
        "colab": {
          "base_uri": "https://localhost:8080/",
          "height": 35
        },
        "id": "EwiU1F-e2L2o",
        "outputId": "168c4af0-f4f7-4663-b463-d9439e8900a2"
      },
      "execution_count": 50,
      "outputs": [
        {
          "output_type": "execute_result",
          "data": {
            "text/plain": [
              "'wb'"
            ],
            "application/vnd.google.colaboratory.intrinsic+json": {
              "type": "string"
            }
          },
          "metadata": {},
          "execution_count": 50
        }
      ]
    },
    {
      "cell_type": "markdown",
      "source": [
        "3.to get the keys from the dictionary"
      ],
      "metadata": {
        "id": "c8fHSngw2R8F"
      }
    },
    {
      "cell_type": "code",
      "source": [
        "d1.keys()"
      ],
      "metadata": {
        "colab": {
          "base_uri": "https://localhost:8080/"
        },
        "id": "QDtA3HCU2RgK",
        "outputId": "42d892be-5928-4971-a536-2d6436dccd80"
      },
      "execution_count": 51,
      "outputs": [
        {
          "output_type": "execute_result",
          "data": {
            "text/plain": [
              "dict_keys(['place', 'state', 'name', 'play', 'code'])"
            ]
          },
          "metadata": {},
          "execution_count": 51
        }
      ]
    },
    {
      "cell_type": "markdown",
      "source": [
        "4.to get the values of the keys"
      ],
      "metadata": {
        "id": "ZLTz2UE32cV2"
      }
    },
    {
      "cell_type": "code",
      "source": [
        "d1.values()"
      ],
      "metadata": {
        "colab": {
          "base_uri": "https://localhost:8080/"
        },
        "id": "tulleFcw2iiY",
        "outputId": "59f894be-1718-4124-81f4-d5c3de481bac"
      },
      "execution_count": 52,
      "outputs": [
        {
          "output_type": "execute_result",
          "data": {
            "text/plain": [
              "dict_values(['kolkata', 'wb', 'kaushik', 'football', 123])"
            ]
          },
          "metadata": {},
          "execution_count": 52
        }
      ]
    },
    {
      "cell_type": "markdown",
      "source": [
        "5.to insert another key and value in the dictionary"
      ],
      "metadata": {
        "id": "qIJZIL8W2nPc"
      }
    },
    {
      "cell_type": "code",
      "source": [
        "d1.update({\"gender\":\"male\"})\n",
        "d1"
      ],
      "metadata": {
        "colab": {
          "base_uri": "https://localhost:8080/"
        },
        "id": "2n_KvmzA20yv",
        "outputId": "b000d11f-c1eb-4351-8203-6c15a7c5561a"
      },
      "execution_count": 56,
      "outputs": [
        {
          "output_type": "execute_result",
          "data": {
            "text/plain": [
              "{'place': 'kolkata',\n",
              " 'state': 'wb',\n",
              " 'name': 'kaushik',\n",
              " 'play': 'football',\n",
              " 'code': 123,\n",
              " 'gender': 'male'}"
            ]
          },
          "metadata": {},
          "execution_count": 56
        }
      ]
    },
    {
      "cell_type": "markdown",
      "source": [
        "6. dictionary without considering values"
      ],
      "metadata": {
        "id": "_ToYgLGv3OC5"
      }
    },
    {
      "cell_type": "code",
      "source": [
        "d3={1,2,4}\n",
        "dict.fromkeys(d3)"
      ],
      "metadata": {
        "colab": {
          "base_uri": "https://localhost:8080/"
        },
        "id": "n2PG8Y5y4BBL",
        "outputId": "bf7cfc88-6eaf-4be9-d748-d9c072571d94"
      },
      "execution_count": 58,
      "outputs": [
        {
          "output_type": "execute_result",
          "data": {
            "text/plain": [
              "{1: None, 2: None, 4: None}"
            ]
          },
          "metadata": {},
          "execution_count": 58
        }
      ]
    },
    {
      "cell_type": "markdown",
      "source": [
        "7.remove the last item of the dictionary"
      ],
      "metadata": {
        "id": "_h142Xvp4a8r"
      }
    },
    {
      "cell_type": "code",
      "source": [
        "d1.pop(\"code\")"
      ],
      "metadata": {
        "colab": {
          "base_uri": "https://localhost:8080/"
        },
        "id": "uSBfWrx-4Pe6",
        "outputId": "25203312-c44c-4bbc-b1a8-b8a3b4ecbb0a"
      },
      "execution_count": 66,
      "outputs": [
        {
          "output_type": "execute_result",
          "data": {
            "text/plain": [
              "123"
            ]
          },
          "metadata": {},
          "execution_count": 66
        }
      ]
    },
    {
      "cell_type": "code",
      "source": [
        "d1"
      ],
      "metadata": {
        "colab": {
          "base_uri": "https://localhost:8080/"
        },
        "id": "yk1Bv4Ux4_7m",
        "outputId": "1c6454b2-bc51-49b8-d88a-5fa169bfb19f"
      },
      "execution_count": 67,
      "outputs": [
        {
          "output_type": "execute_result",
          "data": {
            "text/plain": [
              "{'place': 'kolkata', 'state': 'wb', 'name': 'kaushik', 'gender': 'male'}"
            ]
          },
          "metadata": {},
          "execution_count": 67
        }
      ]
    },
    {
      "cell_type": "markdown",
      "source": [
        "8.delete the last inserted value"
      ],
      "metadata": {
        "id": "AMOlUk2W5E4X"
      }
    },
    {
      "cell_type": "code",
      "source": [
        "d1.popitem()"
      ],
      "metadata": {
        "colab": {
          "base_uri": "https://localhost:8080/"
        },
        "id": "vxqHXeYk5XAQ",
        "outputId": "44749b77-17e6-4038-8018-12546b3fa3d6"
      },
      "execution_count": 68,
      "outputs": [
        {
          "output_type": "execute_result",
          "data": {
            "text/plain": [
              "('gender', 'male')"
            ]
          },
          "metadata": {},
          "execution_count": 68
        }
      ]
    },
    {
      "cell_type": "markdown",
      "source": [
        "9.insert any key that is not in the dictionary"
      ],
      "metadata": {
        "id": "DS3dIzbP5aw4"
      }
    },
    {
      "cell_type": "code",
      "source": [
        "d1\n",
        "d1.setdefault(\"peogram\")\n",
        "\n",
        "d1"
      ],
      "metadata": {
        "colab": {
          "base_uri": "https://localhost:8080/"
        },
        "id": "UL-hfjno5vjB",
        "outputId": "59db63aa-216c-45d3-cfeb-d1c8cb21d341"
      },
      "execution_count": 71,
      "outputs": [
        {
          "output_type": "execute_result",
          "data": {
            "text/plain": [
              "{'place': 'kolkata', 'state': 'wb', 'name': 'kaushik', 'peogram': None}"
            ]
          },
          "metadata": {},
          "execution_count": 71
        }
      ]
    },
    {
      "cell_type": "markdown",
      "source": [
        "10.show the items in the dictionary"
      ],
      "metadata": {
        "id": "KsV7e6C_56WX"
      }
    },
    {
      "cell_type": "code",
      "source": [
        "d1.items()"
      ],
      "metadata": {
        "colab": {
          "base_uri": "https://localhost:8080/"
        },
        "id": "5XCbBm3a6BJP",
        "outputId": "a62a566d-2f96-49a7-d3a0-64f7bd6f8832"
      },
      "execution_count": 75,
      "outputs": [
        {
          "output_type": "execute_result",
          "data": {
            "text/plain": [
              "dict_items([('place', 'kolkata'), ('state', 'wb'), ('name', 'kaushik'), ('peogram', None)])"
            ]
          },
          "metadata": {},
          "execution_count": 75
        }
      ]
    },
    {
      "cell_type": "markdown",
      "source": [
        "clear all the data from dictionary"
      ],
      "metadata": {
        "id": "9f2Z58Ug6VFX"
      }
    },
    {
      "cell_type": "code",
      "source": [
        "d1.clear()\n",
        "d1"
      ],
      "metadata": {
        "colab": {
          "base_uri": "https://localhost:8080/"
        },
        "id": "VVsRC3hl6X34",
        "outputId": "8b7f3963-d3e6-441d-ca0f-5909e72897ae"
      },
      "execution_count": 77,
      "outputs": [
        {
          "output_type": "execute_result",
          "data": {
            "text/plain": [
              "{}"
            ]
          },
          "metadata": {},
          "execution_count": 77
        }
      ]
    },
    {
      "cell_type": "markdown",
      "source": [
        "#tuple(data_structure)"
      ],
      "metadata": {
        "id": "adjR2gZ86c_G"
      }
    },
    {
      "cell_type": "code",
      "source": [
        "dir(tuple)"
      ],
      "metadata": {
        "colab": {
          "base_uri": "https://localhost:8080/"
        },
        "id": "mUCmQ-P76kli",
        "outputId": "ece8438d-7432-4b3e-f86e-9d330c40f961"
      },
      "execution_count": 78,
      "outputs": [
        {
          "output_type": "execute_result",
          "data": {
            "text/plain": [
              "['__add__',\n",
              " '__class__',\n",
              " '__contains__',\n",
              " '__delattr__',\n",
              " '__dir__',\n",
              " '__doc__',\n",
              " '__eq__',\n",
              " '__format__',\n",
              " '__ge__',\n",
              " '__getattribute__',\n",
              " '__getitem__',\n",
              " '__getnewargs__',\n",
              " '__gt__',\n",
              " '__hash__',\n",
              " '__init__',\n",
              " '__init_subclass__',\n",
              " '__iter__',\n",
              " '__le__',\n",
              " '__len__',\n",
              " '__lt__',\n",
              " '__mul__',\n",
              " '__ne__',\n",
              " '__new__',\n",
              " '__reduce__',\n",
              " '__reduce_ex__',\n",
              " '__repr__',\n",
              " '__rmul__',\n",
              " '__setattr__',\n",
              " '__sizeof__',\n",
              " '__str__',\n",
              " '__subclasshook__',\n",
              " 'count',\n",
              " 'index']"
            ]
          },
          "metadata": {},
          "execution_count": 78
        }
      ]
    },
    {
      "cell_type": "code",
      "source": [
        "t=(1,2,3,4,5,5,4,3,4,4,5,3,5,4,4)"
      ],
      "metadata": {
        "id": "Oui4DhxC6xbv"
      },
      "execution_count": 80,
      "outputs": []
    },
    {
      "cell_type": "markdown",
      "source": [
        "1.count the items under the tuple"
      ],
      "metadata": {
        "id": "Youbasfl65tR"
      }
    },
    {
      "cell_type": "code",
      "source": [
        "t.count(4)"
      ],
      "metadata": {
        "colab": {
          "base_uri": "https://localhost:8080/"
        },
        "id": "a3gZMnON6-bO",
        "outputId": "279a5f12-4533-4d00-ad0f-6da02683f285"
      },
      "execution_count": 82,
      "outputs": [
        {
          "output_type": "execute_result",
          "data": {
            "text/plain": [
              "6"
            ]
          },
          "metadata": {},
          "execution_count": 82
        }
      ]
    },
    {
      "cell_type": "markdown",
      "source": [
        "show the index of a particular value"
      ],
      "metadata": {
        "id": "fadNwpVT7OJ4"
      }
    },
    {
      "cell_type": "code",
      "source": [
        "t.index(5)"
      ],
      "metadata": {
        "colab": {
          "base_uri": "https://localhost:8080/"
        },
        "id": "RNdP_4Ex7V-B",
        "outputId": "ad06728e-6385-4e8b-d651-7124d70f2f50"
      },
      "execution_count": 83,
      "outputs": [
        {
          "output_type": "execute_result",
          "data": {
            "text/plain": [
              "4"
            ]
          },
          "metadata": {},
          "execution_count": 83
        }
      ]
    },
    {
      "cell_type": "markdown",
      "source": [
        "#set(data_structure)\n"
      ],
      "metadata": {
        "id": "7pVxr4MY70Sh"
      }
    },
    {
      "cell_type": "code",
      "source": [
        "dir(set)"
      ],
      "metadata": {
        "colab": {
          "base_uri": "https://localhost:8080/"
        },
        "id": "IBJezlR874XK",
        "outputId": "90c3dcdd-0df4-47cd-b2b8-65ad9d665d5b"
      },
      "execution_count": 84,
      "outputs": [
        {
          "output_type": "execute_result",
          "data": {
            "text/plain": [
              "['__and__',\n",
              " '__class__',\n",
              " '__contains__',\n",
              " '__delattr__',\n",
              " '__dir__',\n",
              " '__doc__',\n",
              " '__eq__',\n",
              " '__format__',\n",
              " '__ge__',\n",
              " '__getattribute__',\n",
              " '__gt__',\n",
              " '__hash__',\n",
              " '__iand__',\n",
              " '__init__',\n",
              " '__init_subclass__',\n",
              " '__ior__',\n",
              " '__isub__',\n",
              " '__iter__',\n",
              " '__ixor__',\n",
              " '__le__',\n",
              " '__len__',\n",
              " '__lt__',\n",
              " '__ne__',\n",
              " '__new__',\n",
              " '__or__',\n",
              " '__rand__',\n",
              " '__reduce__',\n",
              " '__reduce_ex__',\n",
              " '__repr__',\n",
              " '__ror__',\n",
              " '__rsub__',\n",
              " '__rxor__',\n",
              " '__setattr__',\n",
              " '__sizeof__',\n",
              " '__str__',\n",
              " '__sub__',\n",
              " '__subclasshook__',\n",
              " '__xor__',\n",
              " 'add',\n",
              " 'clear',\n",
              " 'copy',\n",
              " 'difference',\n",
              " 'difference_update',\n",
              " 'discard',\n",
              " 'intersection',\n",
              " 'intersection_update',\n",
              " 'isdisjoint',\n",
              " 'issubset',\n",
              " 'issuperset',\n",
              " 'pop',\n",
              " 'remove',\n",
              " 'symmetric_difference',\n",
              " 'symmetric_difference_update',\n",
              " 'union',\n",
              " 'update']"
            ]
          },
          "metadata": {},
          "execution_count": 84
        }
      ]
    },
    {
      "cell_type": "markdown",
      "source": [
        "1.items under the set are in a particular order"
      ],
      "metadata": {
        "id": "kSgyGJCL8pzG"
      }
    },
    {
      "cell_type": "code",
      "source": [
        "s1={\"potato\",34,-65,\"bat\",True,False}\n",
        "s1"
      ],
      "metadata": {
        "colab": {
          "base_uri": "https://localhost:8080/"
        },
        "id": "EE5CgU7079_E",
        "outputId": "97a5e204-337c-4cbf-9d48-2dedbab8aa43"
      },
      "execution_count": 88,
      "outputs": [
        {
          "output_type": "execute_result",
          "data": {
            "text/plain": [
              "{-65, 34, False, True, 'bat', 'potato'}"
            ]
          },
          "metadata": {},
          "execution_count": 88
        }
      ]
    },
    {
      "cell_type": "markdown",
      "source": [
        "2.add an item to the set"
      ],
      "metadata": {
        "id": "-iqXxKn38b1R"
      }
    },
    {
      "cell_type": "code",
      "source": [
        "s1.add(\"ballon\")\n",
        "s1"
      ],
      "metadata": {
        "colab": {
          "base_uri": "https://localhost:8080/"
        },
        "id": "PxJvQStD8fz8",
        "outputId": "bb8d4d40-0660-4a8a-c6ef-2e7a56545755"
      },
      "execution_count": 87,
      "outputs": [
        {
          "output_type": "execute_result",
          "data": {
            "text/plain": [
              "{-65, 34, False, True, 'ballon', 'bat', 'potato'}"
            ]
          },
          "metadata": {},
          "execution_count": 87
        }
      ]
    },
    {
      "cell_type": "markdown",
      "source": [
        "3.you can make a duplicate set of this with the same value"
      ],
      "metadata": {
        "id": "tTmL3EOn8uYr"
      }
    },
    {
      "cell_type": "code",
      "source": [
        "s2=s1.copy()\n",
        "s2"
      ],
      "metadata": {
        "colab": {
          "base_uri": "https://localhost:8080/"
        },
        "id": "xS6N5fwH83dl",
        "outputId": "e258d262-6e63-4e2c-e9e8-1fddcd8cd2c9"
      },
      "execution_count": 90,
      "outputs": [
        {
          "output_type": "execute_result",
          "data": {
            "text/plain": [
              "{-65, 34, False, True, 'bat', 'potato'}"
            ]
          },
          "metadata": {},
          "execution_count": 90
        }
      ]
    },
    {
      "cell_type": "markdown",
      "source": [
        "4.add more items to the set"
      ],
      "metadata": {
        "id": "_QCgiHM58-Hs"
      }
    },
    {
      "cell_type": "code",
      "source": [
        "s1.update({\"curd\",23,90})\n",
        "s1"
      ],
      "metadata": {
        "colab": {
          "base_uri": "https://localhost:8080/"
        },
        "id": "1EOP0J2z9Nl7",
        "outputId": "a4de0fa4-a9e6-4611-b9d8-0bd677770c42"
      },
      "execution_count": 93,
      "outputs": [
        {
          "output_type": "execute_result",
          "data": {
            "text/plain": [
              "{-65, 23, 34, 90, False, True, 'bat', 'c', 'curd', 'd', 'potato', 'r', 'u'}"
            ]
          },
          "metadata": {},
          "execution_count": 93
        }
      ]
    },
    {
      "cell_type": "markdown",
      "source": [
        "5.remove item from the set\n"
      ],
      "metadata": {
        "id": "tMO5cNhz9cHG"
      }
    },
    {
      "cell_type": "code",
      "source": [
        "s1.remove(\"curd\")\n"
      ],
      "metadata": {
        "id": "tWoCeKpU9elM"
      },
      "execution_count": 97,
      "outputs": []
    },
    {
      "cell_type": "code",
      "source": [
        "s1"
      ],
      "metadata": {
        "colab": {
          "base_uri": "https://localhost:8080/"
        },
        "id": "WGedmFxf9leR",
        "outputId": "ddac7ae4-75c0-4a42-8768-690bbc3cf71f"
      },
      "execution_count": 98,
      "outputs": [
        {
          "output_type": "execute_result",
          "data": {
            "text/plain": [
              "{-65, 23, 34, 90, False, True, 'c', 'd', 'potato', 'r', 'u'}"
            ]
          },
          "metadata": {},
          "execution_count": 98
        }
      ]
    },
    {
      "cell_type": "markdown",
      "source": [
        "6.discard is same as remove will not give you error\n"
      ],
      "metadata": {
        "id": "Fv9iOrTp9s8U"
      }
    },
    {
      "cell_type": "code",
      "source": [
        "s1.discard(\"bat\")\n",
        "\n",
        "s1"
      ],
      "metadata": {
        "colab": {
          "base_uri": "https://localhost:8080/"
        },
        "id": "J55zJ8Zd96rx",
        "outputId": "8474b750-78a3-42f5-f975-d2c762b02026"
      },
      "execution_count": 100,
      "outputs": [
        {
          "output_type": "execute_result",
          "data": {
            "text/plain": [
              "{-65, 23, 34, 90, False, True, 'c', 'd', 'potato', 'r', 'u'}"
            ]
          },
          "metadata": {},
          "execution_count": 100
        }
      ]
    },
    {
      "cell_type": "markdown",
      "source": [
        "7.union is joining two sets and capture all the values"
      ],
      "metadata": {
        "id": "sLlytKAv-Elj"
      }
    },
    {
      "cell_type": "code",
      "source": [
        "s3={3,4,7,23,98}\n",
        "\n",
        "s1.union(s3)"
      ],
      "metadata": {
        "colab": {
          "base_uri": "https://localhost:8080/"
        },
        "id": "zrUEdJAX-Mgq",
        "outputId": "b5e671cd-0de5-4357-ab87-a03e91b270a2"
      },
      "execution_count": 102,
      "outputs": [
        {
          "output_type": "execute_result",
          "data": {
            "text/plain": [
              "{-65, 23, 3, 34, 4, 7, 90, 98, False, True, 'c', 'd', 'potato', 'r', 'u'}"
            ]
          },
          "metadata": {},
          "execution_count": 102
        }
      ]
    },
    {
      "cell_type": "markdown",
      "source": [
        "8.intersection onlyselect the common one"
      ],
      "metadata": {
        "id": "yiCvn_Ir-Ws8"
      }
    },
    {
      "cell_type": "code",
      "source": [
        "s1.intersection(s3)"
      ],
      "metadata": {
        "colab": {
          "base_uri": "https://localhost:8080/"
        },
        "id": "rP38RAtU-axR",
        "outputId": "f768ed8c-91fb-4609-e19e-c46be7487d4d"
      },
      "execution_count": 103,
      "outputs": [
        {
          "output_type": "execute_result",
          "data": {
            "text/plain": [
              "{23}"
            ]
          },
          "metadata": {},
          "execution_count": 103
        }
      ]
    },
    {
      "cell_type": "markdown",
      "source": [
        "9.clear all the values of the dictionary\n"
      ],
      "metadata": {
        "id": "LoqZr0Xa-nxz"
      }
    },
    {
      "cell_type": "code",
      "source": [
        "s1.clear()\n",
        "s1"
      ],
      "metadata": {
        "colab": {
          "base_uri": "https://localhost:8080/"
        },
        "id": "V9ZL8ubM-x6x",
        "outputId": "ce931012-1a9f-44da-90c9-878d45682eb0"
      },
      "execution_count": 105,
      "outputs": [
        {
          "output_type": "execute_result",
          "data": {
            "text/plain": [
              "set()"
            ]
          },
          "metadata": {},
          "execution_count": 105
        }
      ]
    }
  ]
}