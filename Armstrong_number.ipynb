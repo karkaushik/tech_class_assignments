{
  "nbformat": 4,
  "nbformat_minor": 0,
  "metadata": {
    "colab": {
      "provenance": [],
      "authorship_tag": "ABX9TyO5Cxp6T9kXAnxXASLVuTLu",
      "include_colab_link": true
    },
    "kernelspec": {
      "name": "python3",
      "display_name": "Python 3"
    },
    "language_info": {
      "name": "python"
    }
  },
  "cells": [
    {
      "cell_type": "markdown",
      "metadata": {
        "id": "view-in-github",
        "colab_type": "text"
      },
      "source": [
        "<a href=\"https://colab.research.google.com/github/karkaushik/tech_class_assignments/blob/main/Armstrong_number.ipynb\" target=\"_parent\"><img src=\"https://colab.research.google.com/assets/colab-badge.svg\" alt=\"Open In Colab\"/></a>"
      ]
    },
    {
      "cell_type": "markdown",
      "source": [
        "Armstrong number"
      ],
      "metadata": {
        "id": "RdBvTQ3HZsgD"
      }
    },
    {
      "cell_type": "code",
      "execution_count": 1,
      "metadata": {
        "id": "IiYrmudOKl7Q"
      },
      "outputs": [],
      "source": [
        "#armstrong number\n",
        "# suppose you have a 3 digit number, if the number is equal to the sum of every digit cube value then that can be called as a armstrong number"
      ]
    },
    {
      "cell_type": "code",
      "source": [
        "n=8891\n",
        "sum=0 # taking sum funtion to add the digit with its respective order\n",
        "order=len(str(n)) # to calculate the number is aemstrong or not we are separating the digits and calculate the number of digit\n",
        "copy_n=n # after while condition n become=0 so to compare whether it is armstrong or not we need the value of n that is why copy the number here\n",
        "\n",
        "while(n>0):\n",
        "  digit=n%10 # 8891%10= 1(remainder)\n",
        "             # 889%10= 9(remainer)\n",
        "             #88%10= 8(remainder)\n",
        "             #8%10=8(remainder)\n",
        "              # then it become 0\n",
        "  sum+=digit**order\n",
        "  n=n//10 # this is when the value of n equal to 0 the loop stops.\n",
        "\n",
        "if(sum==copy_n):\n",
        "    print(\"armstrong number\")\n",
        "else:\n",
        "    print(\"not an armstrong number\")"
      ],
      "metadata": {
        "colab": {
          "base_uri": "https://localhost:8080/"
        },
        "id": "eti8yjQvWGkY",
        "outputId": "5824fe0a-3a51-4c32-933e-9f1fea15cf8e"
      },
      "execution_count": 2,
      "outputs": [
        {
          "output_type": "stream",
          "name": "stdout",
          "text": [
            "not an armstrong number\n"
          ]
        }
      ]
    },
    {
      "cell_type": "code",
      "source": [
        "n=153\n",
        "sum=0 # taking sum funtion to add the digit with its respective order\n",
        "order=len(str(n)) # to calculate the number is aemstrong or not we are separating the digits and calculate the number of digit\n",
        "copy_n=n # after while condition n become=0 so to compare whether it is armstrong or not we need the value of n that is why copy the number here\n",
        "\n",
        "while(n>0):\n",
        "  digit=n%10 \n",
        "  sum+=digit**order\n",
        "  n=n//10 # this is when the value of n equal to 0 the loop stops.\n",
        "\n",
        "if(sum==copy_n):\n",
        "    print(\"armstrong number\")\n",
        "else:\n",
        "    print(\"not an armstrong number\")"
      ],
      "metadata": {
        "colab": {
          "base_uri": "https://localhost:8080/"
        },
        "id": "9bnX0MqwZkIX",
        "outputId": "bdada1a4-1254-49ed-ce6c-cd04d2269317"
      },
      "execution_count": 3,
      "outputs": [
        {
          "output_type": "stream",
          "name": "stdout",
          "text": [
            "armstrong number\n"
          ]
        }
      ]
    }
  ]
}