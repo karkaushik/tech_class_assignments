{
  "nbformat": 4,
  "nbformat_minor": 0,
  "metadata": {
    "colab": {
      "provenance": [],
      "authorship_tag": "ABX9TyPutlD5SJ8i1VcY5yxQBIlx",
      "include_colab_link": true
    },
    "kernelspec": {
      "name": "python3",
      "display_name": "Python 3"
    },
    "language_info": {
      "name": "python"
    }
  },
  "cells": [
    {
      "cell_type": "markdown",
      "metadata": {
        "id": "view-in-github",
        "colab_type": "text"
      },
      "source": [
        "<a href=\"https://colab.research.google.com/github/karkaushik/tech_class_assignments/blob/main/asc%20and%20desc.ipynb\" target=\"_parent\"><img src=\"https://colab.research.google.com/assets/colab-badge.svg\" alt=\"Open In Colab\"/></a>"
      ]
    },
    {
      "cell_type": "markdown",
      "source": [
        "ASC and DESC"
      ],
      "metadata": {
        "id": "zcmtYEMnLAPZ"
      }
    },
    {
      "cell_type": "code",
      "execution_count": 6,
      "metadata": {
        "id": "WJxbnvW7Kznf"
      },
      "outputs": [],
      "source": [
        "# when you have a listb and find out the sorted one\n",
        "l=[4,6,2,8,7,5,1]\n",
        "\n"
      ]
    },
    {
      "cell_type": "code",
      "source": [
        "for i in range(0,len(l)-1):\n",
        "  for j in range(i+1,len(l)):\n",
        "    if (l[i]>l[j]):\n",
        "      temp=l[i]\n",
        "      l[i]=l[j]\n",
        "      l[j]=temp\n",
        "\n",
        "  print(l)   \n",
        "print(\"sorted list\")  \n",
        "print(l)     "
      ],
      "metadata": {
        "colab": {
          "base_uri": "https://localhost:8080/"
        },
        "id": "5TfbNsb3pUja",
        "outputId": "e625b672-5c45-4545-e7f4-627938b49119"
      },
      "execution_count": 7,
      "outputs": [
        {
          "output_type": "stream",
          "name": "stdout",
          "text": [
            "[1, 6, 4, 8, 7, 5, 2]\n",
            "[1, 2, 6, 8, 7, 5, 4]\n",
            "[1, 2, 4, 8, 7, 6, 5]\n",
            "[1, 2, 4, 5, 8, 7, 6]\n",
            "[1, 2, 4, 5, 6, 8, 7]\n",
            "[1, 2, 4, 5, 6, 7, 8]\n",
            "sorted list\n",
            "[1, 2, 4, 5, 6, 7, 8]\n"
          ]
        }
      ]
    },
    {
      "cell_type": "code",
      "source": [
        "# now take input from the user and then sort the list\n",
        "l=[]\n",
        "final_size=int(input(\"enter the number of the element:\"))\n",
        "for k in range(0,final_size):\n",
        "  ele=int(input(\"enter the elements:\"))\n",
        "  l.append(ele)\n",
        "\n",
        "for i in range(0,len(l)-1):\n",
        "  for j in range(i+1,len(l)):\n",
        "    if (l[i]>l[j]):\n",
        "      temp=l[i]    #instead of swaping like \n",
        "      l[i]=l[j]    #this you can also put it as \n",
        "      l[j]=temp    #l[i],l[j]=l[j],l[i]\n",
        "\n",
        "  print(l)   \n",
        "print(\"sorted list\")\n",
        "print(l)\n",
        "    "
      ],
      "metadata": {
        "colab": {
          "base_uri": "https://localhost:8080/"
        },
        "id": "QFcxeGjJwVhi",
        "outputId": "f99513df-7e84-49a5-9d08-981b90b6d851"
      },
      "execution_count": 8,
      "outputs": [
        {
          "output_type": "stream",
          "name": "stdout",
          "text": [
            "enter the number of the element:5\n",
            "enter the elements:3\n",
            "enter the elements:8\n",
            "enter the elements:1\n",
            "enter the elements:9\n",
            "enter the elements:7\n",
            "[1, 8, 3, 9, 7]\n",
            "[1, 3, 8, 9, 7]\n",
            "[1, 3, 7, 9, 8]\n",
            "[1, 3, 7, 8, 9]\n",
            "sorted list\n",
            "[1, 3, 7, 8, 9]\n"
          ]
        }
      ]
    },
    {
      "cell_type": "code",
      "source": [
        "#sort a list asc and desc order from a list taken from user using loop\n",
        "\n",
        "my_list=[]\n",
        "size=int(input(\"enter the number of total element:\"))\n",
        "for i in range(0,size):\n",
        "  elem=int(input(\"enter the numbers:\"))\n",
        "  my_list.append(elem)\n",
        "\n",
        "print(\"list in ascending order\", sorted(my_list))\n",
        "print(\"list in ascending order\", sorted(my_list, reverse=True))"
      ],
      "metadata": {
        "colab": {
          "base_uri": "https://localhost:8080/"
        },
        "id": "09b0YHUK8pAg",
        "outputId": "3da7128c-283f-4adf-d4ee-54ce164268ac"
      },
      "execution_count": 9,
      "outputs": [
        {
          "output_type": "stream",
          "name": "stdout",
          "text": [
            "enter the number of total element:5\n",
            "enter the numbers:3\n",
            "enter the numbers:8\n",
            "enter the numbers:1\n",
            "enter the numbers:9\n",
            "enter the numbers:7\n",
            "list in ascending order [1, 3, 7, 8, 9]\n",
            "list in ascending order [9, 8, 7, 3, 1]\n"
          ]
        }
      ]
    }
  ]
}