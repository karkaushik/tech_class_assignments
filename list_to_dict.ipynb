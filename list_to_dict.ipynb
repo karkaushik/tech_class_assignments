{
  "nbformat": 4,
  "nbformat_minor": 0,
  "metadata": {
    "colab": {
      "name": "Untitled19.ipynb",
      "provenance": []
    },
    "kernelspec": {
      "name": "python3",
      "display_name": "Python 3"
    },
    "language_info": {
      "name": "python"
    }
  },
  "cells": [
    {
      "cell_type": "code",
      "execution_count": 2,
      "metadata": {
        "id": "x9s80pof6EfU"
      },
      "outputs": [],
      "source": [
        "list1=[\"hello\",\"how\",\"are\",\"you\",\"the\",\"potatoes\"]\n",
        "list2=[1,2,2,1,1,1]\n",
        "\n",
        "d=dict(zip(list1, list2))"
      ]
    },
    {
      "cell_type": "code",
      "source": [
        "d"
      ],
      "metadata": {
        "colab": {
          "base_uri": "https://localhost:8080/"
        },
        "id": "_IpEQCX57IJh",
        "outputId": "ec434224-187d-4fc2-fffb-2fc9e3475f2b"
      },
      "execution_count": 3,
      "outputs": [
        {
          "output_type": "execute_result",
          "data": {
            "text/plain": [
              "{'hello': 1, 'how': 2, 'are': 2, 'you': 1, 'the': 1, 'potatoes': 1}"
            ]
          },
          "metadata": {},
          "execution_count": 3
        }
      ]
    }
  ]
}