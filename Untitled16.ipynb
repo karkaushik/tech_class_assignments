{
  "nbformat": 4,
  "nbformat_minor": 0,
  "metadata": {
    "colab": {
      "name": "Untitled16.ipynb",
      "provenance": [],
      "authorship_tag": "ABX9TyMFIx0JX3xcWY7+K3TKgyuD",
      "include_colab_link": true
    },
    "kernelspec": {
      "name": "python3",
      "display_name": "Python 3"
    },
    "language_info": {
      "name": "python"
    }
  },
  "cells": [
    {
      "cell_type": "markdown",
      "metadata": {
        "id": "view-in-github",
        "colab_type": "text"
      },
      "source": [
        "<a href=\"https://colab.research.google.com/github/karkaushik/tech_class_assignments/blob/main/Untitled16.ipynb\" target=\"_parent\"><img src=\"https://colab.research.google.com/assets/colab-badge.svg\" alt=\"Open In Colab\"/></a>"
      ]
    },
    {
      "cell_type": "markdown",
      "source": [
        "list\n"
      ],
      "metadata": {
        "id": "juyUefojmzYk"
      }
    },
    {
      "cell_type": "code",
      "source": [
        "def Remove(duplicate_num):\n",
        "    list = []\n",
        "    for num in duplicate_num:\n",
        "        if num not in list:\n",
        "            list.append(num)\n",
        "    return list\n",
        "duplicate_num = [1,1,3,3,2,5,6,7,8]\n",
        "print(Remove(duplicate_num))\n"
      ],
      "metadata": {
        "colab": {
          "base_uri": "https://localhost:8080/"
        },
        "id": "PLGr-Uyzm0sx",
        "outputId": "ecb58640-e1cc-4d5c-a169-b1b1936bdff0"
      },
      "execution_count": 9,
      "outputs": [
        {
          "output_type": "stream",
          "name": "stdout",
          "text": [
            "[1, 3, 2, 5, 6, 7, 8]\n"
          ]
        }
      ]
    },
    {
      "cell_type": "code",
      "source": [
        "list2=[1,2,2,3,4,5,3,7,8,2,1]\n",
        " \n",
        "result=[]\n",
        "for i in list2:\n",
        "           if i not in result:\n",
        "             result.append(i)\n",
        "    \n",
        "    \n",
        "\n",
        "       "
      ],
      "metadata": {
        "id": "C1U6AjsdtMdb"
      },
      "execution_count": 26,
      "outputs": []
    },
    {
      "cell_type": "code",
      "source": [
        "print(result)"
      ],
      "metadata": {
        "colab": {
          "base_uri": "https://localhost:8080/"
        },
        "id": "9wt-3IFqu7jm",
        "outputId": "204ebf56-92b5-4a86-81f0-20e29f26fe78"
      },
      "execution_count": 27,
      "outputs": [
        {
          "output_type": "stream",
          "name": "stdout",
          "text": [
            "[1, 2, 3, 4, 5, 7, 8]\n"
          ]
        }
      ]
    }
  ]
}