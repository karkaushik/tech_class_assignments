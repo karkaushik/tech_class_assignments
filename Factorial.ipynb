{
  "nbformat": 4,
  "nbformat_minor": 0,
  "metadata": {
    "colab": {
      "provenance": [],
      "authorship_tag": "ABX9TyPop/+SaEYlM2kfvxqBKt5+",
      "include_colab_link": true
    },
    "kernelspec": {
      "name": "python3",
      "display_name": "Python 3"
    },
    "language_info": {
      "name": "python"
    }
  },
  "cells": [
    {
      "cell_type": "markdown",
      "metadata": {
        "id": "view-in-github",
        "colab_type": "text"
      },
      "source": [
        "<a href=\"https://colab.research.google.com/github/karkaushik/tech_class_assignments/blob/main/Factorial.ipynb\" target=\"_parent\"><img src=\"https://colab.research.google.com/assets/colab-badge.svg\" alt=\"Open In Colab\"/></a>"
      ]
    },
    {
      "cell_type": "code",
      "execution_count": 3,
      "metadata": {
        "colab": {
          "base_uri": "https://localhost:8080/"
        },
        "id": "pegdZy-Z_vd3",
        "outputId": "802b705f-858e-4c2e-c16c-83a7884cc7d0"
      },
      "outputs": [
        {
          "output_type": "stream",
          "name": "stdout",
          "text": [
            "enter the number:6\n",
            "the value of the factorial is 720\n"
          ]
        }
      ],
      "source": [
        "#python factorial\n",
        "\n",
        "#step 1(define a function)\n",
        "def factorial(n):\n",
        "  fact=1\n",
        "\n",
        "  #loop\n",
        "  for i in range(1,n+1):\n",
        "    fact=fact*i # fact is 1 and i print from 1 to the value I need to check the factorial(say 6), so i runs from 1 to 6 here \n",
        "                  # see how it works\n",
        "                  #and fact=(fact=1)*(i=1) so fact=1\n",
        "                  # then, fact=(fact=1)*(i=2) so fact=2\n",
        "                  #then, fact=(fact=2)*(i=3) so fact=6\n",
        "                  #fact=(fact=6)*(i=4) so fact=24\n",
        "                  #fact=(fact=24)*(i=5) so fact=120\n",
        "                  #fact=(fact=120)*(i=6) so fact=720\n",
        "  return fact\n",
        "\n",
        "x=int(input(\"enter the number:\"))\n",
        "f=factorial(x)\n",
        "print(\"the value of the factorial is\",f)"
      ]
    }
  ]
}