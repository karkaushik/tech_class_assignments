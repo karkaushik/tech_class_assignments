{
  "nbformat": 4,
  "nbformat_minor": 0,
  "metadata": {
    "colab": {
      "name": "Untitled22.ipynb",
      "provenance": []
    },
    "kernelspec": {
      "name": "python3",
      "display_name": "Python 3"
    },
    "language_info": {
      "name": "python"
    }
  },
  "cells": [
    {
      "cell_type": "code",
      "execution_count": 13,
      "metadata": {
        "colab": {
          "base_uri": "https://localhost:8080/"
        },
        "id": "ZPlcPf7PIl56",
        "outputId": "ff0763f5-9590-4aca-912c-35503f74fecb"
      },
      "outputs": [
        {
          "output_type": "stream",
          "name": "stdout",
          "text": [
            "Enter the number:13\n",
            "2\n",
            "3\n",
            "5\n",
            "7\n",
            "11\n",
            "13\n"
          ]
        }
      ],
      "source": [
        "\n",
        "\n",
        "first_value=1\n",
        "n = int(input(\"Enter the number:\"))\n",
        "for num in range(first_value, n+1):\n",
        "    if(num>1):\n",
        "        for i in range(2,num):\n",
        "            if(num%i)==0:\n",
        "                break\n",
        "        else:\n",
        "            print(num)\n"
      ]
    },
    {
      "cell_type": "code",
      "source": [
        "\n",
        "lower = int(input(\"Enter the low value:\"))\n",
        "higher = int(input(\"Enter the high value:\"))\n",
        "for num in range(lower, higher+1):\n",
        "    if(num>1):\n",
        "        for i in range(2,num):\n",
        "            if(num%i)==0:\n",
        "                break\n",
        "        else:\n",
        "            print(num)\n",
        "\n",
        "\n"
      ],
      "metadata": {
        "colab": {
          "base_uri": "https://localhost:8080/"
        },
        "id": "JqoPbjMvIxT9",
        "outputId": "7c61a1ce-d16a-414c-d8fb-14d41f3b10fa"
      },
      "execution_count": 15,
      "outputs": [
        {
          "output_type": "stream",
          "name": "stdout",
          "text": [
            "Enter the low value:13\n",
            "Enter the high value:23\n",
            "13\n",
            "17\n",
            "19\n",
            "23\n"
          ]
        }
      ]
    }
  ]
}