{
  "nbformat": 4,
  "nbformat_minor": 0,
  "metadata": {
    "colab": {
      "name": "Untitled17.ipynb",
      "provenance": []
    },
    "kernelspec": {
      "name": "python3",
      "display_name": "Python 3"
    },
    "language_info": {
      "name": "python"
    }
  },
  "cells": [
    {
      "cell_type": "code",
      "execution_count": null,
      "metadata": {
        "id": "bYdN-1V1yB_o"
      },
      "outputs": [],
      "source": [
        "#prime numer"
      ]
    },
    {
      "cell_type": "code",
      "source": [
        "\n",
        "num=20\n",
        "\n",
        "for i in range(2,num):\n",
        "  if num % i==0:\n",
        "    print(\"not prime\")\n",
        "    break\n",
        " \n",
        "else:\n",
        "      print(\"prime\")"
      ],
      "metadata": {
        "colab": {
          "base_uri": "https://localhost:8080/"
        },
        "id": "toZ6xxZsz3JA",
        "outputId": "c7711f58-2f4e-4c57-966e-4f12724d1b90"
      },
      "execution_count": 9,
      "outputs": [
        {
          "output_type": "stream",
          "name": "stdout",
          "text": [
            "not prime\n"
          ]
        }
      ]
    }
  ]
}