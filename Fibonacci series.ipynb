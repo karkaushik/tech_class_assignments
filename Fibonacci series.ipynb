{
  "nbformat": 4,
  "nbformat_minor": 0,
  "metadata": {
    "colab": {
      "provenance": [],
      "authorship_tag": "ABX9TyMvO3KU4NM2fbzetdG5//d7",
      "include_colab_link": true
    },
    "kernelspec": {
      "name": "python3",
      "display_name": "Python 3"
    },
    "language_info": {
      "name": "python"
    }
  },
  "cells": [
    {
      "cell_type": "markdown",
      "metadata": {
        "id": "view-in-github",
        "colab_type": "text"
      },
      "source": [
        "<a href=\"https://colab.research.google.com/github/karkaushik/tech_class_assignments/blob/main/Fibonacci%20series.ipynb\" target=\"_parent\"><img src=\"https://colab.research.google.com/assets/colab-badge.svg\" alt=\"Open In Colab\"/></a>"
      ]
    },
    {
      "cell_type": "code",
      "execution_count": 18,
      "metadata": {
        "colab": {
          "base_uri": "https://localhost:8080/"
        },
        "id": "6iGHJ9OQgGAl",
        "outputId": "c65349a4-8804-4978-e450-aab4d65c37ba"
      },
      "outputs": [
        {
          "output_type": "stream",
          "name": "stdout",
          "text": [
            "enter the value:8\n",
            "0\n",
            "1\n",
            "1\n",
            "2\n",
            "3\n",
            "5\n",
            "8\n"
          ]
        }
      ],
      "source": [
        "# fibonacci series\n",
        "# without taking function\n",
        "\n",
        "num=int(input(\"enter the value:\"))\n",
        "x=0       # for fibonacci we have to take first two values likr 0 and 1 which is x and y\n",
        "y=1    \n",
        "sum=0    # sum is denoted to calculated the further values acc to fibonacci series\n",
        "\n",
        "while sum<=num:\n",
        "  print(sum)\n",
        "  x=y\n",
        "  y=sum\n",
        "  sum=x+y\n",
        " \n"
      ]
    },
    {
      "cell_type": "code",
      "source": [
        "# now using function\n",
        "def fibo(n):\n",
        "  a=0\n",
        "  b=1\n",
        "\n",
        "  print(a)\n",
        "  print(b)\n",
        "\n",
        "  for i in range(2,n):\n",
        "    c=a+b\n",
        "    a=b\n",
        "    b=c\n",
        "    print(c)\n",
        "fibo(8)\n"
      ],
      "metadata": {
        "colab": {
          "base_uri": "https://localhost:8080/"
        },
        "id": "sxvbGhzPx8nO",
        "outputId": "d106ed30-84f8-49ba-db23-20577e8d6053"
      },
      "execution_count": 26,
      "outputs": [
        {
          "output_type": "stream",
          "name": "stdout",
          "text": [
            "0\n",
            "1\n",
            "1\n",
            "2\n",
            "3\n",
            "5\n",
            "8\n",
            "13\n"
          ]
        }
      ]
    },
    {
      "cell_type": "code",
      "source": [],
      "metadata": {
        "id": "q4h9Eqcoxc-8"
      },
      "execution_count": null,
      "outputs": []
    }
  ]
}