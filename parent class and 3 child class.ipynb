{
  "nbformat": 4,
  "nbformat_minor": 0,
  "metadata": {
    "colab": {
      "provenance": [],
      "authorship_tag": "ABX9TyPB9MIekzeyXDuyubN/swVa",
      "include_colab_link": true
    },
    "kernelspec": {
      "name": "python3",
      "display_name": "Python 3"
    },
    "language_info": {
      "name": "python"
    }
  },
  "cells": [
    {
      "cell_type": "markdown",
      "metadata": {
        "id": "view-in-github",
        "colab_type": "text"
      },
      "source": [
        "<a href=\"https://colab.research.google.com/github/karkaushik/tech_class_assignments/blob/main/parent%20class%20and%203%20child%20class.ipynb\" target=\"_parent\"><img src=\"https://colab.research.google.com/assets/colab-badge.svg\" alt=\"Open In Colab\"/></a>"
      ]
    },
    {
      "cell_type": "markdown",
      "source": [
        "Making a parent class and 3 different child class"
      ],
      "metadata": {
        "id": "4CSil4WbWj9u"
      }
    },
    {
      "cell_type": "markdown",
      "source": [
        "Making a parent class and 3 different child class"
      ],
      "metadata": {
        "id": "juYQ-TLPWJBq"
      }
    },
    {
      "cell_type": "code",
      "execution_count": 3,
      "metadata": {
        "colab": {
          "base_uri": "https://localhost:8080/"
        },
        "id": "E0eBrtUZMGAz",
        "outputId": "dcaf2ef7-1c3c-4022-aec1-eb31b4cd7537"
      },
      "outputs": [
        {
          "output_type": "stream",
          "name": "stdout",
          "text": [
            "kaushik kar\n"
          ]
        }
      ],
      "source": [
        "#parent_class\n",
        "class person:\n",
        "    def __init__(self,f_name,l_name):\n",
        "        self.f_name = f_name\n",
        "        self.l_name= l_name\n",
        "        \n",
        "    def printname(self):\n",
        "        print(self.f_name,self.l_name)\n",
        "\n",
        "x=person(\"kaushik\",\"kar\")\n",
        "x.printname()\n",
        "        "
      ]
    },
    {
      "cell_type": "code",
      "source": [
        "#child_class_1\n",
        "# not adding any other thing just inherit the parent class to a child class\n",
        "\n",
        "class student(person):\n",
        "  pass\n",
        "\n",
        "x=person(\"rishab\",\"roy\")\n",
        "x.printname()\n"
      ],
      "metadata": {
        "colab": {
          "base_uri": "https://localhost:8080/"
        },
        "id": "bOUF7_HLNCzO",
        "outputId": "ac088ccb-13a4-4890-f816-7a5eb96363da"
      },
      "execution_count": 4,
      "outputs": [
        {
          "output_type": "stream",
          "name": "stdout",
          "text": [
            "rishab roy\n"
          ]
        }
      ]
    },
    {
      "cell_type": "code",
      "source": [
        "#child_class_2\n",
        "\n",
        "class employe(person):\n",
        "  def __init__(self,f_name, l_name,emp_id):\n",
        "    self.emp_id=emp_id\n",
        "    person.__init__(self,f_name,l_name)  \n",
        "  \n",
        "  def show(self):\n",
        "    print(self.emp_id)\n",
        "\n",
        "y=employe(\"kaushik\",\"kar\",12345)\n",
        "y.printname()\n",
        "y.show()\n",
        "    "
      ],
      "metadata": {
        "colab": {
          "base_uri": "https://localhost:8080/"
        },
        "id": "4G2sEK7sRqa3",
        "outputId": "4076b047-b4e2-4118-9174-b346499908b0"
      },
      "execution_count": 10,
      "outputs": [
        {
          "output_type": "stream",
          "name": "stdout",
          "text": [
            "kaushik kar\n",
            "12345\n"
          ]
        }
      ]
    },
    {
      "cell_type": "code",
      "source": [
        "#child_class_3\n",
        "\n",
        "class staff(person):\n",
        "  def __init__(self,f_lane,l_name,exp,promotion):\n",
        "    self.exp=exp\n",
        "    self.promotion=promotion\n",
        "    person.__init__(self,f_lane,l_name)\n",
        "\n",
        "  def show(self):\n",
        "    print(self.exp)\n",
        "    print(self.promotion)\n",
        "\n",
        "z=staff(\"kaushik\",\"kar\",20,4)\n",
        "z.printname()\n",
        "z.show()"
      ],
      "metadata": {
        "colab": {
          "base_uri": "https://localhost:8080/"
        },
        "id": "nwBJCqazUMpB",
        "outputId": "4c3d7a1f-7c14-4c0f-c601-ba37aeec9fcc"
      },
      "execution_count": 14,
      "outputs": [
        {
          "output_type": "stream",
          "name": "stdout",
          "text": [
            "kaushik kar\n",
            "20\n",
            "4\n"
          ]
        }
      ]
    }
  ]
}