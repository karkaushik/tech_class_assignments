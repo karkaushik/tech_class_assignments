{
  "nbformat": 4,
  "nbformat_minor": 0,
  "metadata": {
    "colab": {
      "name": "Untitled24.ipynb",
      "provenance": []
    },
    "kernelspec": {
      "name": "python3",
      "display_name": "Python 3"
    },
    "language_info": {
      "name": "python"
    }
  },
  "cells": [
    {
      "cell_type": "markdown",
      "source": [
        "Importing Numpy\n"
      ],
      "metadata": {
        "id": "HlqZl-QsX-3c"
      }
    },
    {
      "cell_type": "code",
      "source": [
        "import numpy as np"
      ],
      "metadata": {
        "id": "0LEWSKyOYEB6"
      },
      "execution_count": 1,
      "outputs": []
    },
    {
      "cell_type": "markdown",
      "source": [
        "Let us first define a Python list containing the ages of 6 people"
      ],
      "metadata": {
        "id": "zde3wLdXYVYN"
      }
    },
    {
      "cell_type": "markdown",
      "source": [
        "## took some hypothetical values"
      ],
      "metadata": {
        "id": "7v49kgGXeUy0"
      }
    },
    {
      "cell_type": "code",
      "source": [
        "age_list= [8,34,20,14,67,26]\n",
        "print(age_list)"
      ],
      "metadata": {
        "colab": {
          "base_uri": "https://localhost:8080/"
        },
        "id": "RDiFRdzUYPJ7",
        "outputId": "68790048-2f21-4930-9d2f-b75b622e9f5f"
      },
      "execution_count": 2,
      "outputs": [
        {
          "output_type": "stream",
          "name": "stdout",
          "text": [
            "[8, 34, 20, 14, 67, 26]\n"
          ]
        }
      ]
    },
    {
      "cell_type": "markdown",
      "source": [
        "There are 3 main ways to instantiate a Numpy ndarray object. One of these is to use np.array(<collection>)"
      ],
      "metadata": {
        "id": "TK2ZLijsY1g1"
      }
    },
    {
      "cell_type": "code",
      "source": [
        "age = np.array(age_list)\n",
        "print(type(age))\n",
        "print(age)"
      ],
      "metadata": {
        "colab": {
          "base_uri": "https://localhost:8080/"
        },
        "id": "ONX3VQO0Y_0E",
        "outputId": "9bd9d480-7e92-4274-c6d7-e84c84c16285"
      },
      "execution_count": 4,
      "outputs": [
        {
          "output_type": "stream",
          "name": "stdout",
          "text": [
            "<class 'numpy.ndarray'>\n",
            "[ 8 34 20 14 67 26]\n"
          ]
        }
      ]
    },
    {
      "cell_type": "code",
      "source": [
        "print(age)\n",
        "print(\"Size:\\t\" , age.size)\n",
        "print(\"Shape:\\t\", age.shape)"
      ],
      "metadata": {
        "colab": {
          "base_uri": "https://localhost:8080/"
        },
        "id": "NKNYVXfbY3X8",
        "outputId": "7a2c74c5-5d85-49b7-de65-7e8d04b7ca55"
      },
      "execution_count": 5,
      "outputs": [
        {
          "output_type": "stream",
          "name": "stdout",
          "text": [
            "[ 8 34 20 14 67 26]\n",
            "Size:\t 6\n",
            "Shape:\t (6,)\n"
          ]
        }
      ]
    },
    {
      "cell_type": "code",
      "source": [
        "zeroArr = np.zeros(5)\n",
        "print(zeroArr)"
      ],
      "metadata": {
        "colab": {
          "base_uri": "https://localhost:8080/"
        },
        "id": "r0X9A6PlZ_l3",
        "outputId": "284d3ea4-6010-4ee6-c398-da45f46759f6"
      },
      "execution_count": 7,
      "outputs": [
        {
          "output_type": "stream",
          "name": "stdout",
          "text": [
            "[0. 0. 0. 0. 0.]\n"
          ]
        }
      ]
    },
    {
      "cell_type": "markdown",
      "source": [
        "Multi-dim"
      ],
      "metadata": {
        "id": "jG-xmeCfalqH"
      }
    },
    {
      "cell_type": "markdown",
      "source": [
        "Now let us define a new list containing the weights of these 6 people."
      ],
      "metadata": {
        "id": "NVZIsi6balw1"
      }
    },
    {
      "cell_type": "code",
      "source": [
        "weight_list = [16, 45, 84, 56, 64, 106]\n",
        "print(weight_list)"
      ],
      "metadata": {
        "colab": {
          "base_uri": "https://localhost:8080/"
        },
        "id": "MdlTxgWrafyw",
        "outputId": "5c5a8f75-203f-4cdb-e23a-0587093c41eb"
      },
      "execution_count": 8,
      "outputs": [
        {
          "output_type": "stream",
          "name": "stdout",
          "text": [
            "[16, 45, 84, 56, 64, 106]\n"
          ]
        }
      ]
    },
    {
      "cell_type": "markdown",
      "source": [
        "Now, we define an ndarray containing all fo this information, and again print the size and shape of the array."
      ],
      "metadata": {
        "id": "LhDuTmsobGZC"
      }
    },
    {
      "cell_type": "code",
      "source": [
        "people = np.array([age_list, weight_list])\n",
        "\n",
        "print(\"People:\\t\" , people)\n",
        "print(\"Size:\\t\" , people.size)\n",
        "print(\"Shape:\\t\", people.shape)"
      ],
      "metadata": {
        "colab": {
          "base_uri": "https://localhost:8080/"
        },
        "id": "y-bcf8ITbJpR",
        "outputId": "f10bdd6f-a57e-4c33-bde2-a4f0b594c6db"
      },
      "execution_count": 10,
      "outputs": [
        {
          "output_type": "stream",
          "name": "stdout",
          "text": [
            "People:\t [[  8  34  20  14  67  26]\n",
            " [ 16  45  84  56  64 106]]\n",
            "Size:\t 12\n",
            "Shape:\t (2, 6)\n"
          ]
        }
      ]
    },
    {
      "cell_type": "code",
      "source": [
        "# 2 X 6 = 1 X 12 = 4 X 3 = 3 X 4 = 12 X 1 \n",
        "\n",
        "people = people.reshape(12,1)\n",
        "print(\"People:\\t\" , people)\n",
        "print(\"Size:\\t\" , people.size)\n",
        "print(\"Shape:\\t\", people.shape)\n"
      ],
      "metadata": {
        "colab": {
          "base_uri": "https://localhost:8080/"
        },
        "id": "C-xDY7jcbhr7",
        "outputId": "6e58cc8f-936b-419d-ed9c-3f129c696de3"
      },
      "execution_count": 11,
      "outputs": [
        {
          "output_type": "stream",
          "name": "stdout",
          "text": [
            "People:\t [[  8]\n",
            " [ 34]\n",
            " [ 20]\n",
            " [ 14]\n",
            " [ 67]\n",
            " [ 26]\n",
            " [ 16]\n",
            " [ 45]\n",
            " [ 84]\n",
            " [ 56]\n",
            " [ 64]\n",
            " [106]]\n",
            "Size:\t 12\n",
            "Shape:\t (12, 1)\n"
          ]
        }
      ]
    },
    {
      "cell_type": "markdown",
      "source": [
        "Exercise 1\n",
        "\n",
        "\n",
        "\n",
        "\n"
      ],
      "metadata": {
        "id": "DMu8ooiVcT-Q"
      }
    },
    {
      "cell_type": "markdown",
      "source": [
        "The first thing we want to do is import numpy"
      ],
      "metadata": {
        "id": "Uij5WfXRdyuA"
      }
    },
    {
      "cell_type": "code",
      "source": [
        "import numpy as np"
      ],
      "metadata": {
        "id": "wWN5jPFCcXbW"
      },
      "execution_count": null,
      "outputs": []
    },
    {
      "cell_type": "code",
      "source": [
        "value1=[7, 9, 65, 33, 85, 99]\n",
        "print(value1)"
      ],
      "metadata": {
        "colab": {
          "base_uri": "https://localhost:8080/"
        },
        "id": "U44jFOX6cNIO",
        "outputId": "37bc593b-9474-42f4-8d41-b64565a997ff"
      },
      "execution_count": 12,
      "outputs": [
        {
          "output_type": "stream",
          "name": "stdout",
          "text": [
            "[7, 9, 65, 33, 85, 99]\n"
          ]
        }
      ]
    },
    {
      "cell_type": "code",
      "source": [
        "value3 = np.array(value1)\n",
        "value3"
      ],
      "metadata": {
        "colab": {
          "base_uri": "https://localhost:8080/"
        },
        "id": "qkat-o1HehPV",
        "outputId": "c41efb42-f153-4fe7-edb9-36fb7c68f409"
      },
      "execution_count": 27,
      "outputs": [
        {
          "output_type": "execute_result",
          "data": {
            "text/plain": [
              "array([ 7,  9, 65, 33, 85, 99])"
            ]
          },
          "metadata": {},
          "execution_count": 27
        }
      ]
    },
    {
      "cell_type": "markdown",
      "source": [
        "EXERCISE 2"
      ],
      "metadata": {
        "id": "KdxVwsp3nyvt"
      }
    },
    {
      "cell_type": "code",
      "source": [
        "value2=np.array([[1,2,4],[2,3,0],[0,5,1]])"
      ],
      "metadata": {
        "id": "WVehoQ-zfGCM"
      },
      "execution_count": 36,
      "outputs": []
    },
    {
      "cell_type": "code",
      "source": [
        "value2"
      ],
      "metadata": {
        "colab": {
          "base_uri": "https://localhost:8080/"
        },
        "id": "ZcUMqcUql34D",
        "outputId": "d9a0a4d5-f676-4fdf-be77-efcf89025b1e"
      },
      "execution_count": 37,
      "outputs": [
        {
          "output_type": "execute_result",
          "data": {
            "text/plain": [
              "array([[1, 2, 4],\n",
              "       [2, 3, 0],\n",
              "       [0, 5, 1]])"
            ]
          },
          "metadata": {},
          "execution_count": 37
        }
      ]
    },
    {
      "cell_type": "code",
      "source": [
        "# 3 X 3 = 1 X 9 = 9 X 1\n",
        "value2.reshape(9,1)\n"
      ],
      "metadata": {
        "colab": {
          "base_uri": "https://localhost:8080/"
        },
        "id": "1GjfMwhpkdFB",
        "outputId": "421d93af-c26e-49c4-f388-9118d295056e"
      },
      "execution_count": 41,
      "outputs": [
        {
          "output_type": "execute_result",
          "data": {
            "text/plain": [
              "array([[1],\n",
              "       [2],\n",
              "       [4],\n",
              "       [2],\n",
              "       [3],\n",
              "       [0],\n",
              "       [0],\n",
              "       [5],\n",
              "       [1]])"
            ]
          },
          "metadata": {},
          "execution_count": 41
        }
      ]
    },
    {
      "cell_type": "markdown",
      "source": [
        "ARRAY GENERATION"
      ],
      "metadata": {
        "id": "nWt077lSox99"
      }
    },
    {
      "cell_type": "markdown",
      "source": [
        "The np.arange() method creates a range of numbers with user defined steps between each."
      ],
      "metadata": {
        "id": "XdDoN6q9qe42"
      }
    },
    {
      "cell_type": "code",
      "source": [
        "five_times_table = np.arange(0, 55, 5)\n",
        "five_times_table"
      ],
      "metadata": {
        "colab": {
          "base_uri": "https://localhost:8080/"
        },
        "id": "m3eco5qFptC1",
        "outputId": "fc651530-04c2-49c8-b535-19a022ebdfb9"
      },
      "execution_count": 42,
      "outputs": [
        {
          "output_type": "execute_result",
          "data": {
            "text/plain": [
              "array([ 0,  5, 10, 15, 20, 25, 30, 35, 40, 45, 50])"
            ]
          },
          "metadata": {},
          "execution_count": 42
        }
      ]
    },
    {
      "cell_type": "markdown",
      "source": [
        "The np.linspace() method will produce a range of evenly spaced values, starting, ending, and taking as many steps as you specify."
      ],
      "metadata": {
        "id": "4fG063-zqhEn"
      }
    },
    {
      "cell_type": "code",
      "source": [
        "five_spaced = np.linspace(0,50,11)\n",
        "print(five_spaced)"
      ],
      "metadata": {
        "colab": {
          "base_uri": "https://localhost:8080/"
        },
        "id": "vPtgTy_iqOMV",
        "outputId": "e7ddd2dd-0029-49b5-a37c-ce4c11a282f1"
      },
      "execution_count": 43,
      "outputs": [
        {
          "output_type": "stream",
          "name": "stdout",
          "text": [
            "[ 0.  5. 10. 15. 20. 25. 30. 35. 40. 45. 50.]\n"
          ]
        }
      ]
    },
    {
      "cell_type": "markdown",
      "source": [
        "The .repeat() method will repeat an object you pas a specified number of times."
      ],
      "metadata": {
        "id": "7U1gJFJQqqfk"
      }
    },
    {
      "cell_type": "code",
      "source": [
        "twoArr = np.repeat(2, 10)\n",
        "print(twoArr)"
      ],
      "metadata": {
        "colab": {
          "base_uri": "https://localhost:8080/"
        },
        "id": "Tdk2AIDBqt2s",
        "outputId": "d2292e6c-69a0-41c4-adfa-e5ec79981660"
      },
      "execution_count": 44,
      "outputs": [
        {
          "output_type": "stream",
          "name": "stdout",
          "text": [
            "[2 2 2 2 2 2 2 2 2 2]\n"
          ]
        }
      ]
    },
    {
      "cell_type": "markdown",
      "source": [
        "\n",
        "The np.eye() functions will create an identity matrix/array for us."
      ],
      "metadata": {
        "id": "FnYwP7mAq2YW"
      }
    },
    {
      "cell_type": "code",
      "source": [
        "identity_matrix = np.eye(6)\n",
        "print(identity_matrix)"
      ],
      "metadata": {
        "colab": {
          "base_uri": "https://localhost:8080/"
        },
        "id": "GPRhyaVeq5su",
        "outputId": "ea54ba64-412c-429c-9113-59d3c4a70303"
      },
      "execution_count": 45,
      "outputs": [
        {
          "output_type": "stream",
          "name": "stdout",
          "text": [
            "[[1. 0. 0. 0. 0. 0.]\n",
            " [0. 1. 0. 0. 0. 0.]\n",
            " [0. 0. 1. 0. 0. 0.]\n",
            " [0. 0. 0. 1. 0. 0.]\n",
            " [0. 0. 0. 0. 1. 0.]\n",
            " [0. 0. 0. 0. 0. 1.]]\n"
          ]
        }
      ]
    },
    {
      "cell_type": "markdown",
      "source": [
        "OPERRATIONS\n"
      ],
      "metadata": {
        "id": "wMm1IDhoq3GP"
      }
    },
    {
      "cell_type": "code",
      "source": [
        "five_times_table"
      ],
      "metadata": {
        "colab": {
          "base_uri": "https://localhost:8080/"
        },
        "id": "pRBSvDOxrH0b",
        "outputId": "1f84d3fd-dfe1-4448-9be4-93768ffa09e7"
      },
      "execution_count": 46,
      "outputs": [
        {
          "output_type": "execute_result",
          "data": {
            "text/plain": [
              "array([ 0,  5, 10, 15, 20, 25, 30, 35, 40, 45, 50])"
            ]
          },
          "metadata": {},
          "execution_count": 46
        }
      ]
    },
    {
      "cell_type": "code",
      "source": [
        "print(\"1:\", 2 * five_times_table)\n",
        "print(\"2:\", 10 + five_times_table)\n",
        "print(\"3:\", five_times_table - 1)\n",
        "print(\"4:\", five_times_table/5)\n",
        "print(\"5:\", five_times_table **2)\n",
        "print(\"6:\", five_times_table < 20)"
      ],
      "metadata": {
        "colab": {
          "base_uri": "https://localhost:8080/"
        },
        "id": "wSYnD3X1rPUK",
        "outputId": "16e09014-181c-4a5d-979c-e53bbbf64da5"
      },
      "execution_count": 47,
      "outputs": [
        {
          "output_type": "stream",
          "name": "stdout",
          "text": [
            "1: [  0  10  20  30  40  50  60  70  80  90 100]\n",
            "2: [10 15 20 25 30 35 40 45 50 55 60]\n",
            "3: [-1  4  9 14 19 24 29 34 39 44 49]\n",
            "4: [ 0.  1.  2.  3.  4.  5.  6.  7.  8.  9. 10.]\n",
            "5: [   0   25  100  225  400  625  900 1225 1600 2025 2500]\n",
            "6: [ True  True  True  True False False False False False False False]\n"
          ]
        }
      ]
    },
    {
      "cell_type": "markdown",
      "source": [
        "SPEED TEST"
      ],
      "metadata": {
        "id": "XV3XmXnUrUuj"
      }
    },
    {
      "cell_type": "code",
      "source": [
        "fives_list = list(range(0,5001,5))\n",
        "fives_list"
      ],
      "metadata": {
        "colab": {
          "base_uri": "https://localhost:8080/"
        },
        "id": "apjR45e9rZ8E",
        "outputId": "92d2202a-d6e5-4cc0-f25c-8528ece37e82"
      },
      "execution_count": 48,
      "outputs": [
        {
          "output_type": "execute_result",
          "data": {
            "text/plain": [
              "[0,\n",
              " 5,\n",
              " 10,\n",
              " 15,\n",
              " 20,\n",
              " 25,\n",
              " 30,\n",
              " 35,\n",
              " 40,\n",
              " 45,\n",
              " 50,\n",
              " 55,\n",
              " 60,\n",
              " 65,\n",
              " 70,\n",
              " 75,\n",
              " 80,\n",
              " 85,\n",
              " 90,\n",
              " 95,\n",
              " 100,\n",
              " 105,\n",
              " 110,\n",
              " 115,\n",
              " 120,\n",
              " 125,\n",
              " 130,\n",
              " 135,\n",
              " 140,\n",
              " 145,\n",
              " 150,\n",
              " 155,\n",
              " 160,\n",
              " 165,\n",
              " 170,\n",
              " 175,\n",
              " 180,\n",
              " 185,\n",
              " 190,\n",
              " 195,\n",
              " 200,\n",
              " 205,\n",
              " 210,\n",
              " 215,\n",
              " 220,\n",
              " 225,\n",
              " 230,\n",
              " 235,\n",
              " 240,\n",
              " 245,\n",
              " 250,\n",
              " 255,\n",
              " 260,\n",
              " 265,\n",
              " 270,\n",
              " 275,\n",
              " 280,\n",
              " 285,\n",
              " 290,\n",
              " 295,\n",
              " 300,\n",
              " 305,\n",
              " 310,\n",
              " 315,\n",
              " 320,\n",
              " 325,\n",
              " 330,\n",
              " 335,\n",
              " 340,\n",
              " 345,\n",
              " 350,\n",
              " 355,\n",
              " 360,\n",
              " 365,\n",
              " 370,\n",
              " 375,\n",
              " 380,\n",
              " 385,\n",
              " 390,\n",
              " 395,\n",
              " 400,\n",
              " 405,\n",
              " 410,\n",
              " 415,\n",
              " 420,\n",
              " 425,\n",
              " 430,\n",
              " 435,\n",
              " 440,\n",
              " 445,\n",
              " 450,\n",
              " 455,\n",
              " 460,\n",
              " 465,\n",
              " 470,\n",
              " 475,\n",
              " 480,\n",
              " 485,\n",
              " 490,\n",
              " 495,\n",
              " 500,\n",
              " 505,\n",
              " 510,\n",
              " 515,\n",
              " 520,\n",
              " 525,\n",
              " 530,\n",
              " 535,\n",
              " 540,\n",
              " 545,\n",
              " 550,\n",
              " 555,\n",
              " 560,\n",
              " 565,\n",
              " 570,\n",
              " 575,\n",
              " 580,\n",
              " 585,\n",
              " 590,\n",
              " 595,\n",
              " 600,\n",
              " 605,\n",
              " 610,\n",
              " 615,\n",
              " 620,\n",
              " 625,\n",
              " 630,\n",
              " 635,\n",
              " 640,\n",
              " 645,\n",
              " 650,\n",
              " 655,\n",
              " 660,\n",
              " 665,\n",
              " 670,\n",
              " 675,\n",
              " 680,\n",
              " 685,\n",
              " 690,\n",
              " 695,\n",
              " 700,\n",
              " 705,\n",
              " 710,\n",
              " 715,\n",
              " 720,\n",
              " 725,\n",
              " 730,\n",
              " 735,\n",
              " 740,\n",
              " 745,\n",
              " 750,\n",
              " 755,\n",
              " 760,\n",
              " 765,\n",
              " 770,\n",
              " 775,\n",
              " 780,\n",
              " 785,\n",
              " 790,\n",
              " 795,\n",
              " 800,\n",
              " 805,\n",
              " 810,\n",
              " 815,\n",
              " 820,\n",
              " 825,\n",
              " 830,\n",
              " 835,\n",
              " 840,\n",
              " 845,\n",
              " 850,\n",
              " 855,\n",
              " 860,\n",
              " 865,\n",
              " 870,\n",
              " 875,\n",
              " 880,\n",
              " 885,\n",
              " 890,\n",
              " 895,\n",
              " 900,\n",
              " 905,\n",
              " 910,\n",
              " 915,\n",
              " 920,\n",
              " 925,\n",
              " 930,\n",
              " 935,\n",
              " 940,\n",
              " 945,\n",
              " 950,\n",
              " 955,\n",
              " 960,\n",
              " 965,\n",
              " 970,\n",
              " 975,\n",
              " 980,\n",
              " 985,\n",
              " 990,\n",
              " 995,\n",
              " 1000,\n",
              " 1005,\n",
              " 1010,\n",
              " 1015,\n",
              " 1020,\n",
              " 1025,\n",
              " 1030,\n",
              " 1035,\n",
              " 1040,\n",
              " 1045,\n",
              " 1050,\n",
              " 1055,\n",
              " 1060,\n",
              " 1065,\n",
              " 1070,\n",
              " 1075,\n",
              " 1080,\n",
              " 1085,\n",
              " 1090,\n",
              " 1095,\n",
              " 1100,\n",
              " 1105,\n",
              " 1110,\n",
              " 1115,\n",
              " 1120,\n",
              " 1125,\n",
              " 1130,\n",
              " 1135,\n",
              " 1140,\n",
              " 1145,\n",
              " 1150,\n",
              " 1155,\n",
              " 1160,\n",
              " 1165,\n",
              " 1170,\n",
              " 1175,\n",
              " 1180,\n",
              " 1185,\n",
              " 1190,\n",
              " 1195,\n",
              " 1200,\n",
              " 1205,\n",
              " 1210,\n",
              " 1215,\n",
              " 1220,\n",
              " 1225,\n",
              " 1230,\n",
              " 1235,\n",
              " 1240,\n",
              " 1245,\n",
              " 1250,\n",
              " 1255,\n",
              " 1260,\n",
              " 1265,\n",
              " 1270,\n",
              " 1275,\n",
              " 1280,\n",
              " 1285,\n",
              " 1290,\n",
              " 1295,\n",
              " 1300,\n",
              " 1305,\n",
              " 1310,\n",
              " 1315,\n",
              " 1320,\n",
              " 1325,\n",
              " 1330,\n",
              " 1335,\n",
              " 1340,\n",
              " 1345,\n",
              " 1350,\n",
              " 1355,\n",
              " 1360,\n",
              " 1365,\n",
              " 1370,\n",
              " 1375,\n",
              " 1380,\n",
              " 1385,\n",
              " 1390,\n",
              " 1395,\n",
              " 1400,\n",
              " 1405,\n",
              " 1410,\n",
              " 1415,\n",
              " 1420,\n",
              " 1425,\n",
              " 1430,\n",
              " 1435,\n",
              " 1440,\n",
              " 1445,\n",
              " 1450,\n",
              " 1455,\n",
              " 1460,\n",
              " 1465,\n",
              " 1470,\n",
              " 1475,\n",
              " 1480,\n",
              " 1485,\n",
              " 1490,\n",
              " 1495,\n",
              " 1500,\n",
              " 1505,\n",
              " 1510,\n",
              " 1515,\n",
              " 1520,\n",
              " 1525,\n",
              " 1530,\n",
              " 1535,\n",
              " 1540,\n",
              " 1545,\n",
              " 1550,\n",
              " 1555,\n",
              " 1560,\n",
              " 1565,\n",
              " 1570,\n",
              " 1575,\n",
              " 1580,\n",
              " 1585,\n",
              " 1590,\n",
              " 1595,\n",
              " 1600,\n",
              " 1605,\n",
              " 1610,\n",
              " 1615,\n",
              " 1620,\n",
              " 1625,\n",
              " 1630,\n",
              " 1635,\n",
              " 1640,\n",
              " 1645,\n",
              " 1650,\n",
              " 1655,\n",
              " 1660,\n",
              " 1665,\n",
              " 1670,\n",
              " 1675,\n",
              " 1680,\n",
              " 1685,\n",
              " 1690,\n",
              " 1695,\n",
              " 1700,\n",
              " 1705,\n",
              " 1710,\n",
              " 1715,\n",
              " 1720,\n",
              " 1725,\n",
              " 1730,\n",
              " 1735,\n",
              " 1740,\n",
              " 1745,\n",
              " 1750,\n",
              " 1755,\n",
              " 1760,\n",
              " 1765,\n",
              " 1770,\n",
              " 1775,\n",
              " 1780,\n",
              " 1785,\n",
              " 1790,\n",
              " 1795,\n",
              " 1800,\n",
              " 1805,\n",
              " 1810,\n",
              " 1815,\n",
              " 1820,\n",
              " 1825,\n",
              " 1830,\n",
              " 1835,\n",
              " 1840,\n",
              " 1845,\n",
              " 1850,\n",
              " 1855,\n",
              " 1860,\n",
              " 1865,\n",
              " 1870,\n",
              " 1875,\n",
              " 1880,\n",
              " 1885,\n",
              " 1890,\n",
              " 1895,\n",
              " 1900,\n",
              " 1905,\n",
              " 1910,\n",
              " 1915,\n",
              " 1920,\n",
              " 1925,\n",
              " 1930,\n",
              " 1935,\n",
              " 1940,\n",
              " 1945,\n",
              " 1950,\n",
              " 1955,\n",
              " 1960,\n",
              " 1965,\n",
              " 1970,\n",
              " 1975,\n",
              " 1980,\n",
              " 1985,\n",
              " 1990,\n",
              " 1995,\n",
              " 2000,\n",
              " 2005,\n",
              " 2010,\n",
              " 2015,\n",
              " 2020,\n",
              " 2025,\n",
              " 2030,\n",
              " 2035,\n",
              " 2040,\n",
              " 2045,\n",
              " 2050,\n",
              " 2055,\n",
              " 2060,\n",
              " 2065,\n",
              " 2070,\n",
              " 2075,\n",
              " 2080,\n",
              " 2085,\n",
              " 2090,\n",
              " 2095,\n",
              " 2100,\n",
              " 2105,\n",
              " 2110,\n",
              " 2115,\n",
              " 2120,\n",
              " 2125,\n",
              " 2130,\n",
              " 2135,\n",
              " 2140,\n",
              " 2145,\n",
              " 2150,\n",
              " 2155,\n",
              " 2160,\n",
              " 2165,\n",
              " 2170,\n",
              " 2175,\n",
              " 2180,\n",
              " 2185,\n",
              " 2190,\n",
              " 2195,\n",
              " 2200,\n",
              " 2205,\n",
              " 2210,\n",
              " 2215,\n",
              " 2220,\n",
              " 2225,\n",
              " 2230,\n",
              " 2235,\n",
              " 2240,\n",
              " 2245,\n",
              " 2250,\n",
              " 2255,\n",
              " 2260,\n",
              " 2265,\n",
              " 2270,\n",
              " 2275,\n",
              " 2280,\n",
              " 2285,\n",
              " 2290,\n",
              " 2295,\n",
              " 2300,\n",
              " 2305,\n",
              " 2310,\n",
              " 2315,\n",
              " 2320,\n",
              " 2325,\n",
              " 2330,\n",
              " 2335,\n",
              " 2340,\n",
              " 2345,\n",
              " 2350,\n",
              " 2355,\n",
              " 2360,\n",
              " 2365,\n",
              " 2370,\n",
              " 2375,\n",
              " 2380,\n",
              " 2385,\n",
              " 2390,\n",
              " 2395,\n",
              " 2400,\n",
              " 2405,\n",
              " 2410,\n",
              " 2415,\n",
              " 2420,\n",
              " 2425,\n",
              " 2430,\n",
              " 2435,\n",
              " 2440,\n",
              " 2445,\n",
              " 2450,\n",
              " 2455,\n",
              " 2460,\n",
              " 2465,\n",
              " 2470,\n",
              " 2475,\n",
              " 2480,\n",
              " 2485,\n",
              " 2490,\n",
              " 2495,\n",
              " 2500,\n",
              " 2505,\n",
              " 2510,\n",
              " 2515,\n",
              " 2520,\n",
              " 2525,\n",
              " 2530,\n",
              " 2535,\n",
              " 2540,\n",
              " 2545,\n",
              " 2550,\n",
              " 2555,\n",
              " 2560,\n",
              " 2565,\n",
              " 2570,\n",
              " 2575,\n",
              " 2580,\n",
              " 2585,\n",
              " 2590,\n",
              " 2595,\n",
              " 2600,\n",
              " 2605,\n",
              " 2610,\n",
              " 2615,\n",
              " 2620,\n",
              " 2625,\n",
              " 2630,\n",
              " 2635,\n",
              " 2640,\n",
              " 2645,\n",
              " 2650,\n",
              " 2655,\n",
              " 2660,\n",
              " 2665,\n",
              " 2670,\n",
              " 2675,\n",
              " 2680,\n",
              " 2685,\n",
              " 2690,\n",
              " 2695,\n",
              " 2700,\n",
              " 2705,\n",
              " 2710,\n",
              " 2715,\n",
              " 2720,\n",
              " 2725,\n",
              " 2730,\n",
              " 2735,\n",
              " 2740,\n",
              " 2745,\n",
              " 2750,\n",
              " 2755,\n",
              " 2760,\n",
              " 2765,\n",
              " 2770,\n",
              " 2775,\n",
              " 2780,\n",
              " 2785,\n",
              " 2790,\n",
              " 2795,\n",
              " 2800,\n",
              " 2805,\n",
              " 2810,\n",
              " 2815,\n",
              " 2820,\n",
              " 2825,\n",
              " 2830,\n",
              " 2835,\n",
              " 2840,\n",
              " 2845,\n",
              " 2850,\n",
              " 2855,\n",
              " 2860,\n",
              " 2865,\n",
              " 2870,\n",
              " 2875,\n",
              " 2880,\n",
              " 2885,\n",
              " 2890,\n",
              " 2895,\n",
              " 2900,\n",
              " 2905,\n",
              " 2910,\n",
              " 2915,\n",
              " 2920,\n",
              " 2925,\n",
              " 2930,\n",
              " 2935,\n",
              " 2940,\n",
              " 2945,\n",
              " 2950,\n",
              " 2955,\n",
              " 2960,\n",
              " 2965,\n",
              " 2970,\n",
              " 2975,\n",
              " 2980,\n",
              " 2985,\n",
              " 2990,\n",
              " 2995,\n",
              " 3000,\n",
              " 3005,\n",
              " 3010,\n",
              " 3015,\n",
              " 3020,\n",
              " 3025,\n",
              " 3030,\n",
              " 3035,\n",
              " 3040,\n",
              " 3045,\n",
              " 3050,\n",
              " 3055,\n",
              " 3060,\n",
              " 3065,\n",
              " 3070,\n",
              " 3075,\n",
              " 3080,\n",
              " 3085,\n",
              " 3090,\n",
              " 3095,\n",
              " 3100,\n",
              " 3105,\n",
              " 3110,\n",
              " 3115,\n",
              " 3120,\n",
              " 3125,\n",
              " 3130,\n",
              " 3135,\n",
              " 3140,\n",
              " 3145,\n",
              " 3150,\n",
              " 3155,\n",
              " 3160,\n",
              " 3165,\n",
              " 3170,\n",
              " 3175,\n",
              " 3180,\n",
              " 3185,\n",
              " 3190,\n",
              " 3195,\n",
              " 3200,\n",
              " 3205,\n",
              " 3210,\n",
              " 3215,\n",
              " 3220,\n",
              " 3225,\n",
              " 3230,\n",
              " 3235,\n",
              " 3240,\n",
              " 3245,\n",
              " 3250,\n",
              " 3255,\n",
              " 3260,\n",
              " 3265,\n",
              " 3270,\n",
              " 3275,\n",
              " 3280,\n",
              " 3285,\n",
              " 3290,\n",
              " 3295,\n",
              " 3300,\n",
              " 3305,\n",
              " 3310,\n",
              " 3315,\n",
              " 3320,\n",
              " 3325,\n",
              " 3330,\n",
              " 3335,\n",
              " 3340,\n",
              " 3345,\n",
              " 3350,\n",
              " 3355,\n",
              " 3360,\n",
              " 3365,\n",
              " 3370,\n",
              " 3375,\n",
              " 3380,\n",
              " 3385,\n",
              " 3390,\n",
              " 3395,\n",
              " 3400,\n",
              " 3405,\n",
              " 3410,\n",
              " 3415,\n",
              " 3420,\n",
              " 3425,\n",
              " 3430,\n",
              " 3435,\n",
              " 3440,\n",
              " 3445,\n",
              " 3450,\n",
              " 3455,\n",
              " 3460,\n",
              " 3465,\n",
              " 3470,\n",
              " 3475,\n",
              " 3480,\n",
              " 3485,\n",
              " 3490,\n",
              " 3495,\n",
              " 3500,\n",
              " 3505,\n",
              " 3510,\n",
              " 3515,\n",
              " 3520,\n",
              " 3525,\n",
              " 3530,\n",
              " 3535,\n",
              " 3540,\n",
              " 3545,\n",
              " 3550,\n",
              " 3555,\n",
              " 3560,\n",
              " 3565,\n",
              " 3570,\n",
              " 3575,\n",
              " 3580,\n",
              " 3585,\n",
              " 3590,\n",
              " 3595,\n",
              " 3600,\n",
              " 3605,\n",
              " 3610,\n",
              " 3615,\n",
              " 3620,\n",
              " 3625,\n",
              " 3630,\n",
              " 3635,\n",
              " 3640,\n",
              " 3645,\n",
              " 3650,\n",
              " 3655,\n",
              " 3660,\n",
              " 3665,\n",
              " 3670,\n",
              " 3675,\n",
              " 3680,\n",
              " 3685,\n",
              " 3690,\n",
              " 3695,\n",
              " 3700,\n",
              " 3705,\n",
              " 3710,\n",
              " 3715,\n",
              " 3720,\n",
              " 3725,\n",
              " 3730,\n",
              " 3735,\n",
              " 3740,\n",
              " 3745,\n",
              " 3750,\n",
              " 3755,\n",
              " 3760,\n",
              " 3765,\n",
              " 3770,\n",
              " 3775,\n",
              " 3780,\n",
              " 3785,\n",
              " 3790,\n",
              " 3795,\n",
              " 3800,\n",
              " 3805,\n",
              " 3810,\n",
              " 3815,\n",
              " 3820,\n",
              " 3825,\n",
              " 3830,\n",
              " 3835,\n",
              " 3840,\n",
              " 3845,\n",
              " 3850,\n",
              " 3855,\n",
              " 3860,\n",
              " 3865,\n",
              " 3870,\n",
              " 3875,\n",
              " 3880,\n",
              " 3885,\n",
              " 3890,\n",
              " 3895,\n",
              " 3900,\n",
              " 3905,\n",
              " 3910,\n",
              " 3915,\n",
              " 3920,\n",
              " 3925,\n",
              " 3930,\n",
              " 3935,\n",
              " 3940,\n",
              " 3945,\n",
              " 3950,\n",
              " 3955,\n",
              " 3960,\n",
              " 3965,\n",
              " 3970,\n",
              " 3975,\n",
              " 3980,\n",
              " 3985,\n",
              " 3990,\n",
              " 3995,\n",
              " 4000,\n",
              " 4005,\n",
              " 4010,\n",
              " 4015,\n",
              " 4020,\n",
              " 4025,\n",
              " 4030,\n",
              " 4035,\n",
              " 4040,\n",
              " 4045,\n",
              " 4050,\n",
              " 4055,\n",
              " 4060,\n",
              " 4065,\n",
              " 4070,\n",
              " 4075,\n",
              " 4080,\n",
              " 4085,\n",
              " 4090,\n",
              " 4095,\n",
              " 4100,\n",
              " 4105,\n",
              " 4110,\n",
              " 4115,\n",
              " 4120,\n",
              " 4125,\n",
              " 4130,\n",
              " 4135,\n",
              " 4140,\n",
              " 4145,\n",
              " 4150,\n",
              " 4155,\n",
              " 4160,\n",
              " 4165,\n",
              " 4170,\n",
              " 4175,\n",
              " 4180,\n",
              " 4185,\n",
              " 4190,\n",
              " 4195,\n",
              " 4200,\n",
              " 4205,\n",
              " 4210,\n",
              " 4215,\n",
              " 4220,\n",
              " 4225,\n",
              " 4230,\n",
              " 4235,\n",
              " 4240,\n",
              " 4245,\n",
              " 4250,\n",
              " 4255,\n",
              " 4260,\n",
              " 4265,\n",
              " 4270,\n",
              " 4275,\n",
              " 4280,\n",
              " 4285,\n",
              " 4290,\n",
              " 4295,\n",
              " 4300,\n",
              " 4305,\n",
              " 4310,\n",
              " 4315,\n",
              " 4320,\n",
              " 4325,\n",
              " 4330,\n",
              " 4335,\n",
              " 4340,\n",
              " 4345,\n",
              " 4350,\n",
              " 4355,\n",
              " 4360,\n",
              " 4365,\n",
              " 4370,\n",
              " 4375,\n",
              " 4380,\n",
              " 4385,\n",
              " 4390,\n",
              " 4395,\n",
              " 4400,\n",
              " 4405,\n",
              " 4410,\n",
              " 4415,\n",
              " 4420,\n",
              " 4425,\n",
              " 4430,\n",
              " 4435,\n",
              " 4440,\n",
              " 4445,\n",
              " 4450,\n",
              " 4455,\n",
              " 4460,\n",
              " 4465,\n",
              " 4470,\n",
              " 4475,\n",
              " 4480,\n",
              " 4485,\n",
              " 4490,\n",
              " 4495,\n",
              " 4500,\n",
              " 4505,\n",
              " 4510,\n",
              " 4515,\n",
              " 4520,\n",
              " 4525,\n",
              " 4530,\n",
              " 4535,\n",
              " 4540,\n",
              " 4545,\n",
              " 4550,\n",
              " 4555,\n",
              " 4560,\n",
              " 4565,\n",
              " 4570,\n",
              " 4575,\n",
              " 4580,\n",
              " 4585,\n",
              " 4590,\n",
              " 4595,\n",
              " 4600,\n",
              " 4605,\n",
              " 4610,\n",
              " 4615,\n",
              " 4620,\n",
              " 4625,\n",
              " 4630,\n",
              " 4635,\n",
              " 4640,\n",
              " 4645,\n",
              " 4650,\n",
              " 4655,\n",
              " 4660,\n",
              " 4665,\n",
              " 4670,\n",
              " 4675,\n",
              " 4680,\n",
              " 4685,\n",
              " 4690,\n",
              " 4695,\n",
              " 4700,\n",
              " 4705,\n",
              " 4710,\n",
              " 4715,\n",
              " 4720,\n",
              " 4725,\n",
              " 4730,\n",
              " 4735,\n",
              " 4740,\n",
              " 4745,\n",
              " 4750,\n",
              " 4755,\n",
              " 4760,\n",
              " 4765,\n",
              " 4770,\n",
              " 4775,\n",
              " 4780,\n",
              " 4785,\n",
              " 4790,\n",
              " 4795,\n",
              " 4800,\n",
              " 4805,\n",
              " 4810,\n",
              " 4815,\n",
              " 4820,\n",
              " 4825,\n",
              " 4830,\n",
              " 4835,\n",
              " 4840,\n",
              " 4845,\n",
              " 4850,\n",
              " 4855,\n",
              " 4860,\n",
              " 4865,\n",
              " 4870,\n",
              " 4875,\n",
              " 4880,\n",
              " 4885,\n",
              " 4890,\n",
              " 4895,\n",
              " 4900,\n",
              " 4905,\n",
              " 4910,\n",
              " 4915,\n",
              " 4920,\n",
              " 4925,\n",
              " 4930,\n",
              " 4935,\n",
              " 4940,\n",
              " 4945,\n",
              " 4950,\n",
              " 4955,\n",
              " 4960,\n",
              " 4965,\n",
              " 4970,\n",
              " 4975,\n",
              " 4980,\n",
              " 4985,\n",
              " 4990,\n",
              " 4995,\n",
              " ...]"
            ]
          },
          "metadata": {},
          "execution_count": 48
        }
      ]
    },
    {
      "cell_type": "code",
      "source": [
        "five_times_table_lge = np.arange(0,5001,5)\n",
        "five_times_table_lge"
      ],
      "metadata": {
        "colab": {
          "base_uri": "https://localhost:8080/"
        },
        "id": "HPClZUnHrtYL",
        "outputId": "0daeaa32-857d-4abf-f292-fdb40f756dc5"
      },
      "execution_count": 49,
      "outputs": [
        {
          "output_type": "execute_result",
          "data": {
            "text/plain": [
              "array([   0,    5,   10, ..., 4990, 4995, 5000])"
            ]
          },
          "metadata": {},
          "execution_count": 49
        }
      ]
    },
    {
      "cell_type": "markdown",
      "source": [
        "execution time of each table"
      ],
      "metadata": {
        "id": "edfKNqCmsEPB"
      }
    },
    {
      "cell_type": "code",
      "source": [
        "%timeit five_times_table_lge + 5"
      ],
      "metadata": {
        "colab": {
          "base_uri": "https://localhost:8080/"
        },
        "id": "GqvdOk3Pr0Mr",
        "outputId": "e4db6631-9fef-47e0-eb34-ede2e6d4e972"
      },
      "execution_count": 50,
      "outputs": [
        {
          "output_type": "stream",
          "name": "stdout",
          "text": [
            "1.24 µs ± 16.6 ns per loop (mean ± std. dev. of 7 runs, 1000000 loops each)\n"
          ]
        }
      ]
    },
    {
      "cell_type": "code",
      "source": [
        "%timeit [e + 5 for e in fives_list]"
      ],
      "metadata": {
        "colab": {
          "base_uri": "https://localhost:8080/"
        },
        "id": "i_OZkqbQsIsN",
        "outputId": "12a8bfc2-31f7-4b89-ce59-ab7546244a0e"
      },
      "execution_count": 51,
      "outputs": [
        {
          "output_type": "stream",
          "name": "stdout",
          "text": [
            "58.3 µs ± 1.09 µs per loop (mean ± std. dev. of 7 runs, 10000 loops each)\n"
          ]
        }
      ]
    },
    {
      "cell_type": "markdown",
      "source": [
        "Boolean string operations can also be performed on ndarrays"
      ],
      "metadata": {
        "id": "X2TG61lzsUFe"
      }
    },
    {
      "cell_type": "code",
      "source": [
        "words = np.array([\"ten\", \"nine\", \"eight\", \"seven\", \"six\"])\n",
        "\n",
        "print(np.isin(words, 'e'))\n",
        "\n",
        "print(\"e\" in words)\n",
        "[\"e\" in word for word in words]"
      ],
      "metadata": {
        "colab": {
          "base_uri": "https://localhost:8080/"
        },
        "id": "PPVvLPoSsVND",
        "outputId": "c59de23a-2063-48bb-9593-1b28fc8b0532"
      },
      "execution_count": 52,
      "outputs": [
        {
          "output_type": "stream",
          "name": "stdout",
          "text": [
            "[False False False False False]\n",
            "False\n"
          ]
        },
        {
          "output_type": "execute_result",
          "data": {
            "text/plain": [
              "[True, True, True, True, False]"
            ]
          },
          "metadata": {},
          "execution_count": 52
        }
      ]
    },
    {
      "cell_type": "markdown",
      "source": [
        "Transpose"
      ],
      "metadata": {
        "id": "Qc3D5sFhsest"
      }
    },
    {
      "cell_type": "code",
      "source": [
        "people.shape = (2, 6)\n",
        "print(people, \"\\n\")\n",
        "print(people.T)"
      ],
      "metadata": {
        "colab": {
          "base_uri": "https://localhost:8080/"
        },
        "id": "wisfcq4Csgk7",
        "outputId": "ad0bbba4-5711-4d48-a3ea-a2e05316e9e9"
      },
      "execution_count": 53,
      "outputs": [
        {
          "output_type": "stream",
          "name": "stdout",
          "text": [
            "[[  8  34  20  14  67  26]\n",
            " [ 16  45  84  56  64 106]] \n",
            "\n",
            "[[  8  16]\n",
            " [ 34  45]\n",
            " [ 20  84]\n",
            " [ 14  56]\n",
            " [ 67  64]\n",
            " [ 26 106]]\n"
          ]
        }
      ]
    },
    {
      "cell_type": "markdown",
      "source": [
        "Data type"
      ],
      "metadata": {
        "id": "BOmdDfIismI9"
      }
    },
    {
      "cell_type": "code",
      "source": [
        "people.dtype"
      ],
      "metadata": {
        "colab": {
          "base_uri": "https://localhost:8080/"
        },
        "id": "Kwu-aaQ4sqDM",
        "outputId": "f23abbb7-828e-41e1-8d70-ceea49699dba"
      },
      "execution_count": 54,
      "outputs": [
        {
          "output_type": "execute_result",
          "data": {
            "text/plain": [
              "dtype('int64')"
            ]
          },
          "metadata": {},
          "execution_count": 54
        }
      ]
    },
    {
      "cell_type": "markdown",
      "source": [
        "what is the data tyoe of the below ndarray?"
      ],
      "metadata": {
        "id": "p2oLsi1As0XR"
      }
    },
    {
      "cell_type": "code",
      "source": [
        "ages_with_strings = np.array([10, 5, 8, '32', '65', '43'])\n",
        "ages_with_strings"
      ],
      "metadata": {
        "colab": {
          "base_uri": "https://localhost:8080/"
        },
        "id": "ioWUjRftssP-",
        "outputId": "3ff35b86-a15d-4768-a867-b8c546721d9e"
      },
      "execution_count": 55,
      "outputs": [
        {
          "output_type": "execute_result",
          "data": {
            "text/plain": [
              "array(['10', '5', '8', '32', '65', '43'], dtype='<U21')"
            ]
          },
          "metadata": {},
          "execution_count": 55
        }
      ]
    },
    {
      "cell_type": "code",
      "source": [
        "ages_with_strings.dtype"
      ],
      "metadata": {
        "colab": {
          "base_uri": "https://localhost:8080/"
        },
        "id": "YnRcNF5ltBL8",
        "outputId": "62e890fd-8c29-4117-8503-dd94078f7b0a"
      },
      "execution_count": 56,
      "outputs": [
        {
          "output_type": "execute_result",
          "data": {
            "text/plain": [
              "dtype('<U21')"
            ]
          },
          "metadata": {},
          "execution_count": 56
        }
      ]
    },
    {
      "cell_type": "markdown",
      "source": [
        "what is the data type of this array?"
      ],
      "metadata": {
        "id": "o_1DEKPXtEk5"
      }
    },
    {
      "cell_type": "code",
      "source": [
        "ages_with_strings = np.array([10, 5, 8, '32', '65', '43'], dtype='int32')\n",
        "ages_with_strings"
      ],
      "metadata": {
        "colab": {
          "base_uri": "https://localhost:8080/"
        },
        "id": "-y45UIfrtIdy",
        "outputId": "701f4dff-0115-4222-f479-23c7b1c230b7"
      },
      "execution_count": 57,
      "outputs": [
        {
          "output_type": "execute_result",
          "data": {
            "text/plain": [
              "array([10,  5,  8, 32, 65, 43], dtype=int32)"
            ]
          },
          "metadata": {},
          "execution_count": 57
        }
      ]
    },
    {
      "cell_type": "code",
      "source": [
        "ages_with_strings.dtype"
      ],
      "metadata": {
        "colab": {
          "base_uri": "https://localhost:8080/"
        },
        "id": "Iju1fZcstT0C",
        "outputId": "3e8f0cd9-2c84-4c1a-fcd4-aeb07095db21"
      },
      "execution_count": 58,
      "outputs": [
        {
          "output_type": "execute_result",
          "data": {
            "text/plain": [
              "dtype('int32')"
            ]
          },
          "metadata": {},
          "execution_count": 58
        }
      ]
    },
    {
      "cell_type": "markdown",
      "source": [
        "What do you think has happened here?"
      ],
      "metadata": {
        "id": "vyZigT8Rtpu6"
      }
    },
    {
      "cell_type": "code",
      "source": [
        "ages_with_strings = np.array([10, 5, 8, '32', '65', '43'])\n",
        "print(ages_with_strings)"
      ],
      "metadata": {
        "colab": {
          "base_uri": "https://localhost:8080/"
        },
        "id": "Vw5ROvomtvnV",
        "outputId": "a4f74ba0-7406-486d-9c6f-544d3544f9ea"
      },
      "execution_count": 59,
      "outputs": [
        {
          "output_type": "stream",
          "name": "stdout",
          "text": [
            "['10' '5' '8' '32' '65' '43']\n"
          ]
        }
      ]
    },
    {
      "cell_type": "code",
      "source": [
        "ages_with_strings.dtype = 'int32'\n",
        "print(ages_with_strings)"
      ],
      "metadata": {
        "colab": {
          "base_uri": "https://localhost:8080/"
        },
        "id": "am3YvQlqtx3g",
        "outputId": "14d5c839-e6d3-4667-f46a-cc726bc606b1"
      },
      "execution_count": 60,
      "outputs": [
        {
          "output_type": "stream",
          "name": "stdout",
          "text": [
            "[49 48  0  0  0  0  0  0  0  0  0  0  0  0  0  0  0  0  0  0  0 53  0  0\n",
            "  0  0  0  0  0  0  0  0  0  0  0  0  0  0  0  0  0  0 56  0  0  0  0  0\n",
            "  0  0  0  0  0  0  0  0  0  0  0  0  0  0  0 51 50  0  0  0  0  0  0  0\n",
            "  0  0  0  0  0  0  0  0  0  0  0  0 54 53  0  0  0  0  0  0  0  0  0  0\n",
            "  0  0  0  0  0  0  0  0  0 52 51  0  0  0  0  0  0  0  0  0  0  0  0  0\n",
            "  0  0  0  0  0  0]\n"
          ]
        }
      ]
    },
    {
      "cell_type": "code",
      "source": [
        "ages_with_strings.size"
      ],
      "metadata": {
        "colab": {
          "base_uri": "https://localhost:8080/"
        },
        "id": "Y7YBHvB3t68M",
        "outputId": "6c3840c4-01c9-4261-bce7-78ed49da4115"
      },
      "execution_count": 61,
      "outputs": [
        {
          "output_type": "execute_result",
          "data": {
            "text/plain": [
              "126"
            ]
          },
          "metadata": {},
          "execution_count": 61
        }
      ]
    },
    {
      "cell_type": "code",
      "source": [
        "np.array([10, 5, 8, '32', '65', '43']).size"
      ],
      "metadata": {
        "colab": {
          "base_uri": "https://localhost:8080/"
        },
        "id": "xmwYju6Xt9Kz",
        "outputId": "eff413ab-a3d0-435a-b337-c10514f63f6e"
      },
      "execution_count": 62,
      "outputs": [
        {
          "output_type": "execute_result",
          "data": {
            "text/plain": [
              "6"
            ]
          },
          "metadata": {},
          "execution_count": 62
        }
      ]
    },
    {
      "cell_type": "markdown",
      "source": [
        "The correct way to have changed the data type of the ndarray would have been to use the .astype() method, demonstrated below"
      ],
      "metadata": {
        "id": "2SbdIm5cuI9d"
      }
    },
    {
      "cell_type": "code",
      "source": [
        "ages_with_strings = np.array([10, 5, 8, '32', '65', '43'])\n",
        "print(ages_with_strings)\n",
        "print(ages_with_strings.astype('int32'))"
      ],
      "metadata": {
        "colab": {
          "base_uri": "https://localhost:8080/"
        },
        "id": "NFyDb6jFuDcj",
        "outputId": "d810ff75-8d5f-470b-84db-ebe89ba512d5"
      },
      "execution_count": 63,
      "outputs": [
        {
          "output_type": "stream",
          "name": "stdout",
          "text": [
            "['10' '5' '8' '32' '65' '43']\n",
            "[10  5  8 32 65 43]\n"
          ]
        }
      ]
    },
    {
      "cell_type": "markdown",
      "source": [
        "EXERCISE"
      ],
      "metadata": {
        "id": "4_omqcwIuM47"
      }
    },
    {
      "cell_type": "code",
      "source": [
        "arr2=np.array([[1,2,3],[23,4,6]])"
      ],
      "metadata": {
        "id": "QM31IjS_uUZo"
      },
      "execution_count": 64,
      "outputs": []
    },
    {
      "cell_type": "code",
      "source": [
        "arr2.dtype"
      ],
      "metadata": {
        "colab": {
          "base_uri": "https://localhost:8080/"
        },
        "id": "6h9OOa-wuWmN",
        "outputId": "5da493da-97b0-4e20-8c5d-2d96c6ac6e34"
      },
      "execution_count": 65,
      "outputs": [
        {
          "output_type": "execute_result",
          "data": {
            "text/plain": [
              "dtype('int64')"
            ]
          },
          "metadata": {},
          "execution_count": 65
        }
      ]
    },
    {
      "cell_type": "markdown",
      "source": [
        "change the data type from int to float"
      ],
      "metadata": {
        "id": "UVV9c31FumDK"
      }
    },
    {
      "cell_type": "code",
      "source": [
        "new_a=arr2.astype('float64')"
      ],
      "metadata": {
        "id": "Rgfw4uwmujlG"
      },
      "execution_count": 66,
      "outputs": []
    },
    {
      "cell_type": "code",
      "source": [
        "new_a.dtype"
      ],
      "metadata": {
        "colab": {
          "base_uri": "https://localhost:8080/"
        },
        "id": "w1pmtv2yu0d0",
        "outputId": "2137510a-2ec8-483e-924b-f229bfc6ccf5"
      },
      "execution_count": 67,
      "outputs": [
        {
          "output_type": "execute_result",
          "data": {
            "text/plain": [
              "dtype('float64')"
            ]
          },
          "metadata": {},
          "execution_count": 67
        }
      ]
    },
    {
      "cell_type": "markdown",
      "source": [
        "transpose the above matrix"
      ],
      "metadata": {
        "id": "WUZbQA0Iu8D6"
      }
    },
    {
      "cell_type": "code",
      "source": [
        "transpose=arr2.transpose()"
      ],
      "metadata": {
        "id": "1WlZELBju238"
      },
      "execution_count": 68,
      "outputs": []
    },
    {
      "cell_type": "code",
      "source": [
        "transpose"
      ],
      "metadata": {
        "colab": {
          "base_uri": "https://localhost:8080/"
        },
        "id": "MXeMzPNfvF5U",
        "outputId": "cb45bc35-1622-4f9d-e130-5f7bcf2b0a05"
      },
      "execution_count": 69,
      "outputs": [
        {
          "output_type": "execute_result",
          "data": {
            "text/plain": [
              "array([[ 1, 23],\n",
              "       [ 2,  4],\n",
              "       [ 3,  6]])"
            ]
          },
          "metadata": {},
          "execution_count": 69
        }
      ]
    },
    {
      "cell_type": "code",
      "source": [
        "transpose.shape"
      ],
      "metadata": {
        "colab": {
          "base_uri": "https://localhost:8080/"
        },
        "id": "7aaekbVbvI3f",
        "outputId": "cc6dff06-c3c1-4950-b67d-308a49870170"
      },
      "execution_count": 70,
      "outputs": [
        {
          "output_type": "execute_result",
          "data": {
            "text/plain": [
              "(3, 2)"
            ]
          },
          "metadata": {},
          "execution_count": 70
        }
      ]
    },
    {
      "cell_type": "code",
      "source": [
        "transpose.size"
      ],
      "metadata": {
        "colab": {
          "base_uri": "https://localhost:8080/"
        },
        "id": "pcoggHJBvM91",
        "outputId": "6687bd57-ea41-4ceb-a686-b6b3d8ef0c7c"
      },
      "execution_count": 71,
      "outputs": [
        {
          "output_type": "execute_result",
          "data": {
            "text/plain": [
              "6"
            ]
          },
          "metadata": {},
          "execution_count": 71
        }
      ]
    },
    {
      "cell_type": "markdown",
      "source": [
        "changing the data type of boolean"
      ],
      "metadata": {
        "id": "208Ed2qsvVPu"
      }
    },
    {
      "cell_type": "code",
      "source": [
        "Bool=np.array(arr2,dtype=bool)"
      ],
      "metadata": {
        "id": "ev6W9j-hvQge"
      },
      "execution_count": 72,
      "outputs": []
    },
    {
      "cell_type": "code",
      "source": [
        "Bool"
      ],
      "metadata": {
        "colab": {
          "base_uri": "https://localhost:8080/"
        },
        "id": "buu3zP6CvdiF",
        "outputId": "18be2749-7f93-4536-ea52-dfc8abca11c1"
      },
      "execution_count": 74,
      "outputs": [
        {
          "output_type": "execute_result",
          "data": {
            "text/plain": [
              "array([[ True,  True,  True],\n",
              "       [ True,  True,  True]])"
            ]
          },
          "metadata": {},
          "execution_count": 74
        }
      ]
    },
    {
      "cell_type": "markdown",
      "source": [
        "Array Slicing Operation"
      ],
      "metadata": {
        "id": "8RH_wMLavmEZ"
      }
    },
    {
      "cell_type": "code",
      "source": [
        "five_times_table"
      ],
      "metadata": {
        "colab": {
          "base_uri": "https://localhost:8080/"
        },
        "id": "oA5Rc4q1vo8U",
        "outputId": "56755640-0d3e-4992-9e64-768d7c654fc1"
      },
      "execution_count": 75,
      "outputs": [
        {
          "output_type": "execute_result",
          "data": {
            "text/plain": [
              "array([ 0,  5, 10, 15, 20, 25, 30, 35, 40, 45, 50])"
            ]
          },
          "metadata": {},
          "execution_count": 75
        }
      ]
    },
    {
      "cell_type": "code",
      "source": [
        "five_times_table[0]"
      ],
      "metadata": {
        "colab": {
          "base_uri": "https://localhost:8080/"
        },
        "id": "ZM4lmf3MwI_F",
        "outputId": "75f04d7c-7c4d-4647-c505-383ad66a7fb7"
      },
      "execution_count": 76,
      "outputs": [
        {
          "output_type": "execute_result",
          "data": {
            "text/plain": [
              "0"
            ]
          },
          "metadata": {},
          "execution_count": 76
        }
      ]
    },
    {
      "cell_type": "code",
      "source": [
        "five_times_table[-1]"
      ],
      "metadata": {
        "colab": {
          "base_uri": "https://localhost:8080/"
        },
        "id": "cpOvXwZ_wMeT",
        "outputId": "46a9c3eb-de94-412a-b423-10b0d1d0ad19"
      },
      "execution_count": 77,
      "outputs": [
        {
          "output_type": "execute_result",
          "data": {
            "text/plain": [
              "50"
            ]
          },
          "metadata": {},
          "execution_count": 77
        }
      ]
    },
    {
      "cell_type": "code",
      "source": [
        "five_times_table[:4]"
      ],
      "metadata": {
        "colab": {
          "base_uri": "https://localhost:8080/"
        },
        "id": "Yo0eh8GKwTtA",
        "outputId": "e3fbfc1b-3413-4ae5-c0ec-d1825197e119"
      },
      "execution_count": 78,
      "outputs": [
        {
          "output_type": "execute_result",
          "data": {
            "text/plain": [
              "array([ 0,  5, 10, 15])"
            ]
          },
          "metadata": {},
          "execution_count": 78
        }
      ]
    },
    {
      "cell_type": "code",
      "source": [
        "five_times_table[4:]"
      ],
      "metadata": {
        "colab": {
          "base_uri": "https://localhost:8080/"
        },
        "id": "_giqfkdjwWxG",
        "outputId": "6255de72-b1fd-4ed4-8b6f-bad2b9d5d431"
      },
      "execution_count": 79,
      "outputs": [
        {
          "output_type": "execute_result",
          "data": {
            "text/plain": [
              "array([20, 25, 30, 35, 40, 45, 50])"
            ]
          },
          "metadata": {},
          "execution_count": 79
        }
      ]
    },
    {
      "cell_type": "markdown",
      "source": [
        "We can also slice an n-dim ndarray., specifying the slice operation accross each axis."
      ],
      "metadata": {
        "id": "BJH21IR6whTs"
      }
    },
    {
      "cell_type": "code",
      "source": [
        "print(people)\n",
        "people[:3, :3]"
      ],
      "metadata": {
        "colab": {
          "base_uri": "https://localhost:8080/"
        },
        "id": "Th9ykSOBwZ7f",
        "outputId": "5a8e3ff6-ecbd-423a-855f-3bf1beef5add"
      },
      "execution_count": 81,
      "outputs": [
        {
          "output_type": "stream",
          "name": "stdout",
          "text": [
            "[[  8  34  20  14  67  26]\n",
            " [ 16  45  84  56  64 106]]\n"
          ]
        },
        {
          "output_type": "execute_result",
          "data": {
            "text/plain": [
              "array([[ 8, 34, 20],\n",
              "       [16, 45, 84]])"
            ]
          },
          "metadata": {},
          "execution_count": 81
        }
      ]
    },
    {
      "cell_type": "markdown",
      "source": [
        "EXERCISE"
      ],
      "metadata": {
        "id": "tuo75Zwxwz_d"
      }
    },
    {
      "cell_type": "code",
      "source": [
        "zer=np.zeros(50)"
      ],
      "metadata": {
        "id": "mDdA5_xlxILc"
      },
      "execution_count": 82,
      "outputs": []
    },
    {
      "cell_type": "code",
      "source": [
        "zer"
      ],
      "metadata": {
        "colab": {
          "base_uri": "https://localhost:8080/"
        },
        "id": "JwFaWYWDxJ77",
        "outputId": "00415159-6b37-4d23-d114-10e77bbb4acc"
      },
      "execution_count": 83,
      "outputs": [
        {
          "output_type": "execute_result",
          "data": {
            "text/plain": [
              "array([0., 0., 0., 0., 0., 0., 0., 0., 0., 0., 0., 0., 0., 0., 0., 0., 0.,\n",
              "       0., 0., 0., 0., 0., 0., 0., 0., 0., 0., 0., 0., 0., 0., 0., 0., 0.,\n",
              "       0., 0., 0., 0., 0., 0., 0., 0., 0., 0., 0., 0., 0., 0., 0., 0.])"
            ]
          },
          "metadata": {},
          "execution_count": 83
        }
      ]
    },
    {
      "cell_type": "code",
      "source": [
        "repeat=np.repeat(2,20)"
      ],
      "metadata": {
        "id": "tZ1uB4A9xO8_"
      },
      "execution_count": 84,
      "outputs": []
    },
    {
      "cell_type": "code",
      "source": [
        "repeat"
      ],
      "metadata": {
        "colab": {
          "base_uri": "https://localhost:8080/"
        },
        "id": "5u5xo_HQxUPT",
        "outputId": "f0fd6927-feca-4dd9-8acf-f88604bb135b"
      },
      "execution_count": 86,
      "outputs": [
        {
          "output_type": "execute_result",
          "data": {
            "text/plain": [
              "array([2, 2, 2, 2, 2, 2, 2, 2, 2, 2, 2, 2, 2, 2, 2, 2, 2, 2, 2, 2])"
            ]
          },
          "metadata": {},
          "execution_count": 86
        }
      ]
    },
    {
      "cell_type": "code",
      "source": [
        "import math\n",
        "arr3=np.arange(0, math.pi, 0.1)"
      ],
      "metadata": {
        "id": "TSGdCzbVxWjH"
      },
      "execution_count": 89,
      "outputs": []
    },
    {
      "cell_type": "code",
      "source": [
        "arr3"
      ],
      "metadata": {
        "colab": {
          "base_uri": "https://localhost:8080/"
        },
        "id": "o6qDDSPVxk-v",
        "outputId": "a339e483-8f33-4a33-ce7b-e38d42539c36"
      },
      "execution_count": 90,
      "outputs": [
        {
          "output_type": "execute_result",
          "data": {
            "text/plain": [
              "array([0. , 0.1, 0.2, 0.3, 0.4, 0.5, 0.6, 0.7, 0.8, 0.9, 1. , 1.1, 1.2,\n",
              "       1.3, 1.4, 1.5, 1.6, 1.7, 1.8, 1.9, 2. , 2.1, 2.2, 2.3, 2.4, 2.5,\n",
              "       2.6, 2.7, 2.8, 2.9, 3. , 3.1])"
            ]
          },
          "metadata": {},
          "execution_count": 90
        }
      ]
    },
    {
      "cell_type": "markdown",
      "source": [
        "We can reverse an array by using .flip() or by using the :: operator."
      ],
      "metadata": {
        "id": "auDB3NNbx42H"
      }
    },
    {
      "cell_type": "code",
      "source": [
        "reverse_five_times_table = np.flip(five_times_table)\n",
        "reverse_five_times_table"
      ],
      "metadata": {
        "colab": {
          "base_uri": "https://localhost:8080/"
        },
        "id": "aEHxwcS_xzmK",
        "outputId": "7fad7b10-e35c-4aa7-9337-6e1fe6ce8892"
      },
      "execution_count": 91,
      "outputs": [
        {
          "output_type": "execute_result",
          "data": {
            "text/plain": [
              "array([50, 45, 40, 35, 30, 25, 20, 15, 10,  5,  0])"
            ]
          },
          "metadata": {},
          "execution_count": 91
        }
      ]
    },
    {
      "cell_type": "code",
      "source": [
        "reverse_five_times_table = five_times_table[-1::-1]\n",
        "print(reverse_five_times_table)\n",
        "five_times_table"
      ],
      "metadata": {
        "colab": {
          "base_uri": "https://localhost:8080/"
        },
        "id": "GMdpItUix9Fy",
        "outputId": "1e7d79da-f1a1-4319-bbde-638e64b07a48"
      },
      "execution_count": 92,
      "outputs": [
        {
          "output_type": "stream",
          "name": "stdout",
          "text": [
            "[50 45 40 35 30 25 20 15 10  5  0]\n"
          ]
        },
        {
          "output_type": "execute_result",
          "data": {
            "text/plain": [
              "array([ 0,  5, 10, 15, 20, 25, 30, 35, 40, 45, 50])"
            ]
          },
          "metadata": {},
          "execution_count": 92
        }
      ]
    },
    {
      "cell_type": "code",
      "source": [
        "five_times_table[0::3]"
      ],
      "metadata": {
        "colab": {
          "base_uri": "https://localhost:8080/"
        },
        "id": "NHvRDfNPyBzo",
        "outputId": "3cd0a6b2-807c-461c-bad3-c8f411250ca9"
      },
      "execution_count": 93,
      "outputs": [
        {
          "output_type": "execute_result",
          "data": {
            "text/plain": [
              "array([ 0, 15, 30, 45])"
            ]
          },
          "metadata": {},
          "execution_count": 93
        }
      ]
    },
    {
      "cell_type": "markdown",
      "source": [
        "EXERCISE"
      ],
      "metadata": {
        "id": "LmQn2weGyY1K"
      }
    },
    {
      "cell_type": "code",
      "source": [
        "array4=np.array([1,2,3,4,5,6,7])"
      ],
      "metadata": {
        "id": "dZGEHrVpyHWK"
      },
      "execution_count": 94,
      "outputs": []
    },
    {
      "cell_type": "code",
      "source": [
        "flip=np.flip(array4)"
      ],
      "metadata": {
        "id": "kZ4rEGlTyb0Q"
      },
      "execution_count": 95,
      "outputs": []
    },
    {
      "cell_type": "code",
      "source": [
        "flip"
      ],
      "metadata": {
        "colab": {
          "base_uri": "https://localhost:8080/"
        },
        "id": "LWA7HISkyftu",
        "outputId": "87101e4f-7099-4856-affe-8aa7abdb23f5"
      },
      "execution_count": 96,
      "outputs": [
        {
          "output_type": "execute_result",
          "data": {
            "text/plain": [
              "array([7, 6, 5, 4, 3, 2, 1])"
            ]
          },
          "metadata": {},
          "execution_count": 96
        }
      ]
    },
    {
      "cell_type": "markdown",
      "source": [
        "keep every 4 element"
      ],
      "metadata": {
        "id": "Ex8B-pkxymt1"
      }
    },
    {
      "cell_type": "code",
      "source": [
        "keep=array4[0::4]"
      ],
      "metadata": {
        "id": "yZOOE2xCypYw"
      },
      "execution_count": 97,
      "outputs": []
    },
    {
      "cell_type": "code",
      "source": [
        "keep"
      ],
      "metadata": {
        "colab": {
          "base_uri": "https://localhost:8080/"
        },
        "id": "StrGz9Upyq30",
        "outputId": "ee2f9c0d-ac5c-4aba-daed-75fa8b51c11b"
      },
      "execution_count": 98,
      "outputs": [
        {
          "output_type": "execute_result",
          "data": {
            "text/plain": [
              "array([1, 5])"
            ]
          },
          "metadata": {},
          "execution_count": 98
        }
      ]
    },
    {
      "cell_type": "code",
      "source": [
        "#every second element from last"
      ],
      "metadata": {
        "id": "coXVTpe9yv8_"
      },
      "execution_count": null,
      "outputs": []
    },
    {
      "cell_type": "code",
      "source": [
        "reverse=array4[-1::-2]"
      ],
      "metadata": {
        "id": "s5Ku3Fb9yywS"
      },
      "execution_count": 99,
      "outputs": []
    },
    {
      "cell_type": "code",
      "source": [
        "reverse"
      ],
      "metadata": {
        "colab": {
          "base_uri": "https://localhost:8080/"
        },
        "id": "zQ3AGWRGyiju",
        "outputId": "2f16c713-69b3-4385-bbf5-164ece71d6b2"
      },
      "execution_count": 100,
      "outputs": [
        {
          "output_type": "execute_result",
          "data": {
            "text/plain": [
              "array([7, 5, 3, 1])"
            ]
          },
          "metadata": {},
          "execution_count": 100
        }
      ]
    },
    {
      "cell_type": "markdown",
      "source": [
        "stats"
      ],
      "metadata": {
        "id": "tqZ1F41WzAzF"
      }
    },
    {
      "cell_type": "code",
      "source": [
        "np.array([1.65432, 5.98765]).round(2)\n",
        "\n"
      ],
      "metadata": {
        "colab": {
          "base_uri": "https://localhost:8080/"
        },
        "id": "NPVHWoX8zB4a",
        "outputId": "2027994d-93fe-4315-f169-f76810a964ca"
      },
      "execution_count": 102,
      "outputs": [
        {
          "output_type": "execute_result",
          "data": {
            "text/plain": [
              "array([1.65, 5.99])"
            ]
          },
          "metadata": {},
          "execution_count": 102
        }
      ]
    },
    {
      "cell_type": "code",
      "source": [
        "nums = np.arange(0, 4, 0.2555)"
      ],
      "metadata": {
        "id": "r-i5z4QuzH6a"
      },
      "execution_count": 104,
      "outputs": []
    },
    {
      "cell_type": "code",
      "source": [
        "nums"
      ],
      "metadata": {
        "colab": {
          "base_uri": "https://localhost:8080/"
        },
        "id": "QJ5R6z4NzXxx",
        "outputId": "18495c81-aaf9-4a40-f84f-a9ab89d44cef"
      },
      "execution_count": 107,
      "outputs": [
        {
          "output_type": "execute_result",
          "data": {
            "text/plain": [
              "array([0.    , 0.2555, 0.511 , 0.7665, 1.022 , 1.2775, 1.533 , 1.7885,\n",
              "       2.044 , 2.2995, 2.555 , 2.8105, 3.066 , 3.3215, 3.577 , 3.8325])"
            ]
          },
          "metadata": {},
          "execution_count": 107
        }
      ]
    },
    {
      "cell_type": "markdown",
      "source": [
        "EXERCISE"
      ],
      "metadata": {
        "id": "PIpQ1KqizZHd"
      }
    },
    {
      "cell_type": "markdown",
      "source": [
        "Compute min, max, sum, mean, median, variance, and standard deviation of the above array, all to to 2 decimal places"
      ],
      "metadata": {
        "id": "1uvXU3ydzpQP"
      }
    },
    {
      "cell_type": "code",
      "source": [
        "print(\"min = \", np.min(nums).round(2))\n",
        "print(\"max = \", np.max(nums).round(2))\n",
        "print(\"sum = \", np.sum(nums).round(2))\n",
        "print(\"mean = \", np.mean(nums).round(2))\n",
        "print(\"median = \", np.median(nums).round(2))\n",
        "print(\"var = \", np.var(nums).round(2))\n",
        "print(\"std = \", np.std(nums).round(2))"
      ],
      "metadata": {
        "colab": {
          "base_uri": "https://localhost:8080/"
        },
        "id": "WBwP-Slpzg9X",
        "outputId": "51bcc5b2-739b-4251-ef81-6e4119cb5c35"
      },
      "execution_count": 108,
      "outputs": [
        {
          "output_type": "stream",
          "name": "stdout",
          "text": [
            "min =  0.0\n",
            "max =  3.83\n",
            "sum =  30.66\n",
            "mean =  1.92\n",
            "median =  1.92\n",
            "var =  1.39\n",
            "std =  1.18\n"
          ]
        }
      ]
    },
    {
      "cell_type": "markdown",
      "source": [
        "RANDOM"
      ],
      "metadata": {
        "id": "NUOjNBOMzyjd"
      }
    },
    {
      "cell_type": "markdown",
      "source": [
        "With np.random, we can generate a number of types of dataset, and create training data.\n",
        "\n",
        "The below code simulates a fair coin toss."
      ],
      "metadata": {
        "id": "w28GZsHVz4cg"
      }
    },
    {
      "cell_type": "code",
      "source": [
        "flip3=np.random.choice([0,1],10)"
      ],
      "metadata": {
        "id": "9hECb9jLz0R5"
      },
      "execution_count": 109,
      "outputs": []
    },
    {
      "cell_type": "code",
      "source": [
        "flip3"
      ],
      "metadata": {
        "colab": {
          "base_uri": "https://localhost:8080/"
        },
        "id": "-4_PMFrEz1hs",
        "outputId": "7cc37b86-f067-433f-bdc6-cc247060a45f"
      },
      "execution_count": 110,
      "outputs": [
        {
          "output_type": "execute_result",
          "data": {
            "text/plain": [
              "array([0, 0, 0, 1, 0, 1, 0, 0, 0, 1])"
            ]
          },
          "metadata": {},
          "execution_count": 110
        }
      ]
    },
    {
      "cell_type": "code",
      "source": [
        "a=np.random.rand(10,20,9)"
      ],
      "metadata": {
        "id": "xXqfgIER0HiQ"
      },
      "execution_count": 111,
      "outputs": []
    },
    {
      "cell_type": "code",
      "source": [
        "a"
      ],
      "metadata": {
        "colab": {
          "base_uri": "https://localhost:8080/"
        },
        "id": "6DV2zClC0LsG",
        "outputId": "6e1fe823-8812-42ea-c8d3-3691945d0890"
      },
      "execution_count": 112,
      "outputs": [
        {
          "output_type": "execute_result",
          "data": {
            "text/plain": [
              "array([[[0.97971497, 0.89015738, 0.30860749, ..., 0.23800287,\n",
              "         0.76038635, 0.14138892],\n",
              "        [0.25543212, 0.32474763, 0.91535014, ..., 0.14770136,\n",
              "         0.56378993, 0.23157561],\n",
              "        [0.20909877, 0.91209216, 0.9637953 , ..., 0.41242254,\n",
              "         0.55131511, 0.01762692],\n",
              "        ...,\n",
              "        [0.13097345, 0.51053102, 0.02210171, ..., 0.68790932,\n",
              "         0.3034759 , 0.01880618],\n",
              "        [0.96475566, 0.94087343, 0.93820315, ..., 0.18665012,\n",
              "         0.76567495, 0.98036734],\n",
              "        [0.47239793, 0.43441965, 0.73976989, ..., 0.95618387,\n",
              "         0.6638056 , 0.78327102]],\n",
              "\n",
              "       [[0.21557715, 0.47961665, 0.12892312, ..., 0.72856273,\n",
              "         0.28255975, 0.6235401 ],\n",
              "        [0.41429074, 0.75408098, 0.12941861, ..., 0.55379244,\n",
              "         0.99637646, 0.44856768],\n",
              "        [0.81799029, 0.37260886, 0.20406868, ..., 0.66670428,\n",
              "         0.4027581 , 0.69589472],\n",
              "        ...,\n",
              "        [0.45345342, 0.37628333, 0.04778697, ..., 0.69353244,\n",
              "         0.67988834, 0.05894898],\n",
              "        [0.83167388, 0.81350493, 0.10569481, ..., 0.49037854,\n",
              "         0.84337355, 0.50021789],\n",
              "        [0.75726578, 0.29727249, 0.70574452, ..., 0.78834762,\n",
              "         0.11355589, 0.12185399]],\n",
              "\n",
              "       [[0.34752396, 0.39453578, 0.98799456, ..., 0.99973123,\n",
              "         0.04893398, 0.56244051],\n",
              "        [0.63381572, 0.64614908, 0.39506657, ..., 0.80694692,\n",
              "         0.22142992, 0.30368988],\n",
              "        [0.84327462, 0.9182792 , 0.29993908, ..., 0.15996587,\n",
              "         0.21419343, 0.9248671 ],\n",
              "        ...,\n",
              "        [0.94722407, 0.41258442, 0.41854582, ..., 0.34146729,\n",
              "         0.49775211, 0.91038499],\n",
              "        [0.31725081, 0.44735506, 0.12137707, ..., 0.51414166,\n",
              "         0.40036133, 0.64576789],\n",
              "        [0.39321007, 0.15715469, 0.31916856, ..., 0.44606818,\n",
              "         0.29521649, 0.80262521]],\n",
              "\n",
              "       ...,\n",
              "\n",
              "       [[0.49004031, 0.2167091 , 0.76887921, ..., 0.83115975,\n",
              "         0.22129821, 0.16731109],\n",
              "        [0.30343596, 0.52593298, 0.22337699, ..., 0.32691533,\n",
              "         0.01745716, 0.44945333],\n",
              "        [0.82371486, 0.9083447 , 0.5544809 , ..., 0.78524589,\n",
              "         0.68611835, 0.7857845 ],\n",
              "        ...,\n",
              "        [0.17466493, 0.30882616, 0.28001354, ..., 0.67236167,\n",
              "         0.60023132, 0.1856068 ],\n",
              "        [0.21252044, 0.90257224, 0.72349172, ..., 0.79738747,\n",
              "         0.53900592, 0.33987729],\n",
              "        [0.80007037, 0.23354578, 0.92002062, ..., 0.14616647,\n",
              "         0.03859367, 0.69478911]],\n",
              "\n",
              "       [[0.57136682, 0.64519191, 0.66136325, ..., 0.95102196,\n",
              "         0.67740947, 0.16604654],\n",
              "        [0.59794564, 0.42552373, 0.36074734, ..., 0.4475454 ,\n",
              "         0.31787586, 0.80290793],\n",
              "        [0.56051266, 0.49861221, 0.02937188, ..., 0.4670192 ,\n",
              "         0.6066889 , 0.86765306],\n",
              "        ...,\n",
              "        [0.79722921, 0.92962881, 0.80178004, ..., 0.28950632,\n",
              "         0.79642021, 0.84248778],\n",
              "        [0.05612613, 0.7760887 , 0.7283645 , ..., 0.06962357,\n",
              "         0.05977933, 0.85474561],\n",
              "        [0.46287323, 0.65616549, 0.03084593, ..., 0.13141168,\n",
              "         0.97245723, 0.80235059]],\n",
              "\n",
              "       [[0.23614567, 0.96414276, 0.15917136, ..., 0.05039809,\n",
              "         0.4436496 , 0.49294169],\n",
              "        [0.54321238, 0.45935615, 0.49884126, ..., 0.1976276 ,\n",
              "         0.30071605, 0.13819103],\n",
              "        [0.40530663, 0.70529793, 0.84933339, ..., 0.9465948 ,\n",
              "         0.48591605, 0.99545405],\n",
              "        ...,\n",
              "        [0.94500012, 0.97501608, 0.31707882, ..., 0.29852307,\n",
              "         0.90635993, 0.6984236 ],\n",
              "        [0.69526138, 0.43497732, 0.33776932, ..., 0.33245066,\n",
              "         0.1051569 , 0.80888621],\n",
              "        [0.30970014, 0.90670432, 0.85654374, ..., 0.71384475,\n",
              "         0.17406351, 0.51103041]]])"
            ]
          },
          "metadata": {},
          "execution_count": 112
        }
      ]
    },
    {
      "cell_type": "code",
      "source": [
        "np.random.rand(1,2,3)"
      ],
      "metadata": {
        "colab": {
          "base_uri": "https://localhost:8080/"
        },
        "id": "qZVxtJWj0O5R",
        "outputId": "68362a9d-3ce5-4c1a-9191-850727e7fd01"
      },
      "execution_count": 113,
      "outputs": [
        {
          "output_type": "execute_result",
          "data": {
            "text/plain": [
              "array([[[0.42140593, 0.78110325, 0.3247272 ],\n",
              "        [0.52251206, 0.51671029, 0.9445959 ]]])"
            ]
          },
          "metadata": {},
          "execution_count": 113
        }
      ]
    },
    {
      "cell_type": "markdown",
      "source": [
        "We can produce 1000 datapoints of a normally distributed data set by using np.random.normal()"
      ],
      "metadata": {
        "id": "NwGYA0qZ0dnC"
      }
    },
    {
      "cell_type": "markdown",
      "source": [
        "mean and standard deviation"
      ],
      "metadata": {
        "id": "pzlmnKoe0lf4"
      }
    },
    {
      "cell_type": "code",
      "source": [
        "mu, sigma = 0, 0.1 \n",
        "s = np.random.normal(mu, sigma, 1000)"
      ],
      "metadata": {
        "id": "fT5zDUUM0VrR"
      },
      "execution_count": 114,
      "outputs": []
    },
    {
      "cell_type": "code",
      "source": [
        "s"
      ],
      "metadata": {
        "colab": {
          "base_uri": "https://localhost:8080/"
        },
        "id": "cKVytnQ80orj",
        "outputId": "d2e944c2-4b0f-4625-b4a9-ce15abae8f5a"
      },
      "execution_count": 115,
      "outputs": [
        {
          "output_type": "execute_result",
          "data": {
            "text/plain": [
              "array([-9.07352155e-02, -1.17760793e-01, -5.03233698e-02,  1.81622195e-02,\n",
              "       -7.10836991e-02,  1.90380548e-01, -4.44310659e-02, -6.88670125e-03,\n",
              "        6.39581168e-02,  2.06916860e-01,  1.69491313e-02, -1.77576849e-01,\n",
              "       -5.62605260e-02, -7.30702323e-02, -8.51597518e-03,  9.92371371e-02,\n",
              "       -4.27009652e-02,  1.18540691e-01,  1.02817114e-01, -1.07851492e-01,\n",
              "        6.42210111e-02,  1.00306445e-01, -6.35917725e-02,  1.91319045e-01,\n",
              "        9.38744890e-03, -2.01413511e-01,  4.58950657e-02,  8.65598775e-02,\n",
              "        7.02892823e-02,  1.11723881e-01,  8.50428517e-02, -3.57106007e-02,\n",
              "        1.63643028e-01,  4.48952137e-02, -4.64592141e-02, -1.02929426e-01,\n",
              "       -6.49335098e-02, -5.86004388e-02, -1.93007281e-02, -1.11782934e-01,\n",
              "       -2.83679897e-02, -5.34875946e-02,  2.49682275e-01, -1.22178380e-01,\n",
              "        1.10502087e-01,  7.66701619e-02,  3.82453473e-02,  5.52051626e-02,\n",
              "       -7.58618478e-02, -7.90319659e-02,  5.36870262e-03,  1.55806626e-02,\n",
              "        1.14353499e-01, -1.19163516e-02,  1.79632142e-01, -8.18988520e-02,\n",
              "        9.21951770e-02,  2.40735670e-03, -1.52548865e-01,  5.41934007e-02,\n",
              "       -2.35149956e-02, -5.81804275e-02, -5.97238982e-02,  3.45207339e-02,\n",
              "        1.10219335e-01, -1.57925579e-01,  1.53085188e-01, -3.99027457e-02,\n",
              "       -2.10149846e-01,  1.75254951e-01,  1.10541767e-01, -1.04049333e-03,\n",
              "       -5.39851228e-02,  7.93129683e-03, -1.71457916e-01, -1.48636209e-01,\n",
              "       -1.29473251e-03, -5.33482351e-02,  1.24079235e-01,  7.10409862e-02,\n",
              "        6.45636219e-02,  2.14231767e-02,  6.74043800e-02, -9.21387317e-02,\n",
              "       -6.92302699e-02,  2.88165321e-02,  4.65208564e-02, -3.34397360e-02,\n",
              "        8.52775942e-02, -1.55182528e-02, -3.53548477e-02,  1.67675042e-01,\n",
              "        1.50462393e-03, -3.09476793e-02, -1.45311836e-02,  1.14821104e-02,\n",
              "        1.10396039e-01, -3.72538829e-02, -4.55544120e-02,  2.79555796e-02,\n",
              "        1.79513624e-01, -6.52812541e-02,  2.51449207e-02,  9.70974836e-02,\n",
              "       -1.50519449e-02,  1.03427070e-01, -5.07453128e-02, -9.10616016e-03,\n",
              "       -2.47203312e-01, -6.47566954e-02,  5.66454250e-02, -4.64929105e-02,\n",
              "       -1.15294517e-01,  1.96616221e-01, -2.10134816e-02,  1.68981854e-01,\n",
              "        1.31535579e-02,  4.13470257e-02,  8.35009599e-02, -1.50890483e-03,\n",
              "       -4.81346089e-02, -8.11158840e-02,  1.02804598e-01,  9.62457126e-02,\n",
              "       -6.77345668e-02, -4.24260584e-02,  7.68949176e-02,  3.29430574e-02,\n",
              "       -1.24512244e-01,  3.38561483e-02, -5.48603795e-02,  6.25975419e-02,\n",
              "        6.87417205e-03,  1.11484069e-01, -1.14534215e-01, -6.74864476e-02,\n",
              "        2.40619103e-02,  1.77517009e-02,  8.24067330e-02, -7.10059739e-02,\n",
              "       -1.00935639e-01,  6.81751435e-03, -3.00512615e-02,  9.20113687e-02,\n",
              "       -1.26909878e-01, -1.77803230e-01, -2.89237744e-02,  2.82138949e-02,\n",
              "        1.15371392e-01, -1.79318992e-02,  1.21697204e-02,  8.70329245e-02,\n",
              "       -7.51694640e-02,  1.69927626e-01,  6.77030869e-02, -2.97861928e-02,\n",
              "        5.69444822e-03, -4.90291384e-02,  1.39781655e-01, -6.31966287e-02,\n",
              "        1.74289604e-01, -1.94018658e-01, -1.47793586e-01,  2.44525199e-04,\n",
              "        4.31569516e-02, -7.98510298e-02,  1.55652228e-01,  1.67166178e-02,\n",
              "       -7.67407154e-03, -5.56871136e-02, -8.70604838e-02,  2.12725061e-01,\n",
              "        8.59763166e-02,  2.68242337e-02,  1.78387718e-02, -6.19774336e-02,\n",
              "        3.26937358e-02, -3.88338957e-03, -2.40998352e-02,  4.69282622e-02,\n",
              "        1.40589797e-01, -2.52938567e-02, -1.24076703e-01, -7.33661676e-02,\n",
              "        1.24460083e-01, -1.61022849e-02,  1.12777248e-01,  3.57462313e-02,\n",
              "        1.07304477e-01,  2.07979453e-02, -8.50118181e-02, -4.07167100e-02,\n",
              "       -3.38057632e-02, -9.52424419e-02, -1.74127381e-01, -3.15713200e-02,\n",
              "       -4.85929550e-03,  2.51055299e-02, -8.93768104e-02, -1.11594561e-01,\n",
              "        2.25602263e-02,  3.17701125e-02, -1.07303150e-01,  1.80097713e-01,\n",
              "       -1.29689269e-01, -1.46013348e-01,  3.29555141e-02, -1.10145565e-01,\n",
              "        4.19924148e-02,  7.33165795e-02, -1.52170676e-01,  5.08442119e-02,\n",
              "       -1.52691810e-01, -5.36896667e-03,  9.42332171e-02,  3.16731994e-03,\n",
              "        1.20164008e-01, -1.02034749e-01,  1.01573878e-01,  2.48950150e-02,\n",
              "       -2.24507283e-01, -6.82652385e-02, -1.56082603e-02,  5.01332991e-02,\n",
              "       -4.60375127e-02,  4.24627332e-02,  7.40423607e-02, -8.32657169e-02,\n",
              "       -6.57894464e-02, -1.12663479e-01,  2.01681069e-01, -1.64047384e-02,\n",
              "        1.57867745e-02, -1.42527051e-01,  3.96594278e-02, -9.06575546e-03,\n",
              "       -3.66751538e-02, -1.02764474e-01,  1.67239967e-02, -3.17534893e-02,\n",
              "        1.59578467e-03, -4.82400674e-03, -2.95156048e-02,  2.27973856e-02,\n",
              "        3.22409762e-01, -1.26639186e-01,  4.32485938e-02,  3.83089409e-02,\n",
              "       -1.34655268e-01,  8.90448209e-02, -1.90932058e-01, -6.16448705e-02,\n",
              "        1.05926484e-01, -1.45799179e-01,  1.00346306e-01,  3.58723399e-02,\n",
              "        2.16662440e-01, -1.07789577e-01,  5.44484838e-02, -4.87512792e-02,\n",
              "        3.20694240e-02, -3.29759448e-03,  5.79813382e-02,  8.59404948e-02,\n",
              "       -1.81417929e-01, -5.60732928e-02,  1.02926576e-01,  1.44641383e-01,\n",
              "        1.27190558e-02,  1.52637876e-01, -1.25935449e-01, -4.33024685e-02,\n",
              "        3.13419471e-02,  8.64012795e-02,  5.43361860e-02, -1.24887529e-01,\n",
              "        2.03302531e-02,  1.45137285e-01,  6.63758928e-02, -1.13424405e-01,\n",
              "        3.49400791e-02,  5.61080482e-03,  1.27049193e-01, -1.14025284e-02,\n",
              "        1.83511266e-02, -1.37310634e-01,  6.64795706e-02,  1.05763834e-01,\n",
              "        6.72930586e-02,  4.19054958e-02, -9.93945408e-02, -3.08772157e-02,\n",
              "        3.26028295e-02, -7.78786171e-02, -1.04912941e-01, -4.98573718e-02,\n",
              "        3.37610469e-02,  8.30828195e-02, -2.07125719e-01, -6.45279488e-02,\n",
              "        5.89113597e-02, -7.26948290e-02,  2.79221102e-02, -1.60873324e-01,\n",
              "       -8.46597019e-02, -1.74294861e-01, -7.84191129e-02, -1.92844382e-01,\n",
              "       -1.05595131e-01, -2.14895550e-01, -1.42725875e-01,  4.72599597e-02,\n",
              "       -1.39007385e-03, -4.86691613e-02,  8.34278543e-02,  7.89171609e-02,\n",
              "        1.22278252e-01, -4.22667160e-02,  1.14249522e-01, -5.10805099e-02,\n",
              "        5.27011381e-02, -6.34496700e-02, -1.57573659e-01, -1.13343954e-01,\n",
              "        5.87495712e-02,  8.77867771e-02, -1.39158197e-01, -3.16430937e-02,\n",
              "       -3.65452564e-03, -1.04336461e-02,  2.14893591e-01, -1.15443546e-01,\n",
              "        1.08635603e-01,  6.50155052e-02, -4.63230008e-02,  4.55889608e-02,\n",
              "       -2.35887201e-02,  6.62534434e-02, -2.82810502e-02, -4.02071904e-04,\n",
              "        1.12903917e-01,  1.62902500e-02,  1.83598982e-01, -2.73317566e-02,\n",
              "       -3.97036600e-02,  6.17235064e-02,  1.37125941e-01,  1.12868901e-01,\n",
              "       -9.89511388e-02,  1.29059988e-01, -1.99887967e-02, -2.99969928e-02,\n",
              "        1.18513097e-01, -5.42547216e-02, -5.29986923e-02,  1.06510227e-01,\n",
              "        6.26018468e-02,  3.93421053e-02, -3.28440109e-02, -1.01198382e-01,\n",
              "       -8.12259819e-03, -1.64880267e-02,  9.14093540e-02, -1.31702352e-01,\n",
              "        1.87576311e-02,  1.62507996e-01, -3.69517257e-02, -3.39607012e-02,\n",
              "       -4.70142375e-02, -1.73531463e-01,  6.92974183e-02,  6.19211774e-02,\n",
              "       -9.74403115e-02, -5.89139707e-02,  8.32396645e-02, -5.46804042e-02,\n",
              "       -2.60864626e-01,  1.06006121e-01,  1.37653040e-02,  3.07926741e-02,\n",
              "       -3.19917994e-02, -7.95122940e-02, -2.20589743e-02,  2.83561352e-02,\n",
              "        1.46331625e-03,  9.37580260e-02, -5.38033279e-02,  8.62146969e-02,\n",
              "       -2.17867155e-02,  1.19031425e-01,  9.70275259e-02, -1.01746033e-02,\n",
              "       -5.32623045e-03,  7.25753387e-03, -6.17983077e-02, -2.39967119e-02,\n",
              "       -1.19045790e-01, -3.36618114e-02,  2.96102431e-02,  4.36804873e-02,\n",
              "        6.49869612e-02, -5.41150023e-02, -1.38473061e-01, -2.45099232e-01,\n",
              "       -2.55437238e-01, -1.31229942e-01,  1.92376476e-01,  1.35985937e-01,\n",
              "        3.21046369e-02, -6.88578661e-03,  5.57150301e-02,  2.22966977e-01,\n",
              "        1.49006191e-01,  9.47370505e-02,  1.47502478e-01, -2.20148848e-01,\n",
              "        2.42234504e-02,  8.35129462e-02, -1.06101952e-01, -1.10841352e-01,\n",
              "       -2.70098268e-02,  8.49121710e-02, -8.03328018e-02, -1.94799639e-01,\n",
              "       -1.64512728e-01, -1.46160397e-01,  1.49069826e-02, -8.98867688e-02,\n",
              "        8.38882130e-02,  8.23990673e-02, -1.41303677e-01, -1.50718179e-01,\n",
              "       -9.49670722e-02, -6.07555769e-02, -1.41362674e-03, -1.97853984e-01,\n",
              "       -2.46574474e-01,  2.38378615e-02,  6.11728430e-02, -7.90983703e-02,\n",
              "       -3.01122327e-03, -2.17659013e-01,  1.63278209e-02,  5.82762496e-02,\n",
              "       -5.73591660e-02,  3.08556438e-02,  1.13264048e-02,  4.24161527e-02,\n",
              "       -2.01056595e-01,  1.15643813e-01, -1.10864477e-01, -1.00382604e-02,\n",
              "        1.04192655e-01, -1.27925873e-01,  6.88310742e-02,  1.90216475e-01,\n",
              "       -6.06101718e-02,  5.81951201e-02,  1.21581610e-01, -4.85414467e-02,\n",
              "       -3.22848218e-02, -8.34398555e-02,  2.65054623e-03,  1.73710592e-02,\n",
              "        9.82978131e-02, -1.74200703e-01, -3.49557810e-02, -3.39181294e-02,\n",
              "        1.23722782e-01,  2.62643127e-02, -1.20598008e-01, -1.88085371e-01,\n",
              "        1.91374573e-01,  5.31250736e-02,  1.17934613e-01,  1.69826894e-01,\n",
              "        1.18514192e-01, -8.90398729e-02,  8.52771152e-02, -8.73424230e-02,\n",
              "       -3.09807691e-02, -3.83405690e-02, -6.36645812e-02,  4.52747556e-02,\n",
              "       -8.89812008e-02,  2.29140162e-01,  8.44797392e-02, -1.80796037e-02,\n",
              "       -5.80508686e-02, -8.65832871e-02,  7.68764484e-03,  4.63242967e-02,\n",
              "       -1.22045035e-01,  2.37446324e-02, -2.97571143e-02, -1.87898345e-02,\n",
              "       -1.23918660e-01, -8.71925553e-02, -9.35093281e-02,  1.33681139e-01,\n",
              "       -1.06870076e-01,  3.93040998e-03, -1.11049670e-02,  1.30093516e-01,\n",
              "        1.77592684e-01,  1.52388705e-02, -9.81087217e-02, -6.89621611e-03,\n",
              "       -2.56426413e-02,  2.92145831e-02, -5.04437483e-03,  2.54271546e-03,\n",
              "       -3.75611671e-02, -1.20310326e-01,  7.60931738e-03, -1.28634542e-01,\n",
              "       -8.13547374e-03, -1.94043371e-02,  1.67481949e-01, -6.80641191e-02,\n",
              "        1.00007825e-01,  1.29872710e-01,  1.14409503e-01, -6.21954717e-04,\n",
              "        9.84895611e-02,  2.22301830e-01,  3.29887051e-03, -1.78188278e-01,\n",
              "        8.54326471e-02, -3.05992078e-02, -7.73375240e-02,  1.69014072e-02,\n",
              "       -1.86489343e-01,  6.93291025e-02,  1.52545984e-02, -4.56672422e-02,\n",
              "       -1.41352869e-01, -4.35164537e-02, -8.87579542e-03,  3.98381566e-02,\n",
              "       -5.13224038e-02,  1.15883567e-01, -6.23426276e-02,  1.42263534e-01,\n",
              "        2.89869395e-02,  5.39824112e-02, -7.00150607e-02, -3.35560497e-02,\n",
              "       -6.65746518e-02, -8.65260757e-02,  4.89792370e-03, -8.45833721e-03,\n",
              "       -7.73689163e-02,  1.68086378e-01,  4.33302977e-02,  1.63487342e-02,\n",
              "        2.92406728e-02,  5.45298745e-02, -1.14208529e-01,  8.39900733e-02,\n",
              "       -1.32838767e-01,  1.79633733e-01, -7.12014380e-02,  2.17172076e-01,\n",
              "        5.73706510e-02, -1.54240925e-02, -6.21751994e-02, -1.46987929e-02,\n",
              "       -1.48893373e-01, -3.60040306e-03, -1.38139675e-01, -3.18667278e-02,\n",
              "       -1.03118106e-01, -5.53276883e-02, -1.53161015e-02,  8.57238868e-05,\n",
              "       -6.37638729e-03,  2.43271757e-02,  6.74268236e-02, -4.56992443e-02,\n",
              "       -9.59513811e-02, -8.42315630e-02, -1.75327004e-01, -6.82832334e-02,\n",
              "       -6.57354438e-02, -5.82937363e-02,  5.34289909e-02,  5.32830163e-02,\n",
              "        3.20189879e-03,  8.91651935e-02, -4.16239101e-02, -9.67322073e-02,\n",
              "        1.96041745e-01, -1.20476512e-02, -6.72164948e-02, -3.17311024e-02,\n",
              "        9.32026244e-02, -1.79427406e-01,  1.21240560e-01,  6.68961677e-03,\n",
              "        3.77697085e-02,  4.92518705e-02, -3.21664722e-02, -1.56833641e-02,\n",
              "        3.38439673e-02,  2.82584616e-02, -9.05924086e-02,  7.01479641e-03,\n",
              "       -9.98621595e-02,  6.60741666e-02,  7.08670050e-02,  4.42857257e-02,\n",
              "       -4.08266943e-02, -1.02333304e-01, -1.29655729e-01, -1.39007890e-01,\n",
              "       -6.92080434e-02, -2.22565709e-02, -1.07015293e-02,  4.95729385e-02,\n",
              "        1.41405198e-02, -9.50963910e-03, -6.59164203e-02, -5.57670125e-02,\n",
              "        1.99372441e-01, -1.28795063e-01, -8.36796724e-02, -2.31999063e-02,\n",
              "       -8.92908480e-02, -2.37453557e-02,  7.78023889e-02, -4.41322632e-02,\n",
              "       -8.02837015e-02,  3.23699298e-02,  9.12566955e-02,  2.20671671e-02,\n",
              "        6.95601840e-02, -1.11230598e-01,  5.41008410e-02,  4.60096355e-02,\n",
              "        9.72064324e-02, -2.56790501e-02, -6.33541133e-02, -1.37659942e-03,\n",
              "       -7.22541240e-02, -9.03576432e-02, -5.43265212e-02,  7.39963575e-02,\n",
              "        1.30141661e-01, -1.79663745e-02, -9.95438921e-02,  1.99032308e-02,\n",
              "       -1.87398331e-02, -2.58657831e-01,  7.42933496e-02,  1.45847924e-01,\n",
              "       -2.50326672e-01, -3.12011648e-02, -4.34701828e-02, -4.78113955e-02,\n",
              "        4.10259370e-02,  1.40187583e-01, -1.06627362e-01,  9.00548850e-02,\n",
              "        7.09587857e-02, -2.21265106e-01,  9.85296279e-02,  1.19072984e-01,\n",
              "        6.40127628e-02,  3.97966658e-02,  1.47878777e-02, -5.88897240e-03,\n",
              "       -8.92399627e-04, -1.10116728e-01, -9.31512633e-02,  9.47376301e-02,\n",
              "       -6.65080603e-02, -3.59777128e-02, -1.15790297e-01,  1.46567314e-02,\n",
              "        1.62441766e-02, -1.57000313e-01, -2.41574314e-02,  7.73192188e-02,\n",
              "        7.36921764e-03, -1.24102483e-02, -1.00686219e-01, -5.98556774e-03,\n",
              "       -1.94421193e-01, -1.62582680e-01,  7.84888389e-02,  2.00664124e-02,\n",
              "       -1.94424144e-01,  1.37029837e-01, -9.23459653e-02, -5.81949454e-02,\n",
              "        1.62375715e-01, -1.22296086e-01,  2.92931371e-02,  1.59518723e-01,\n",
              "        7.75698005e-02,  2.49444998e-02,  5.70065622e-02, -2.13159331e-02,\n",
              "       -1.08045697e-01,  1.49117342e-01,  6.02072546e-02, -1.62184210e-01,\n",
              "        1.44106873e-01,  3.71930469e-03,  8.44345076e-03, -1.52748030e-02,\n",
              "       -1.68046593e-02, -3.07921108e-02, -7.35356102e-03, -3.10929319e-02,\n",
              "        3.41903382e-02,  6.46424539e-02,  1.03354680e-01,  9.09255851e-02,\n",
              "       -8.11476723e-02,  7.25174751e-02, -1.59816798e-01,  1.33297232e-02,\n",
              "        6.52174061e-02, -1.12069305e-01,  2.40570144e-02,  5.19425056e-02,\n",
              "       -8.08270461e-02, -5.99870221e-02,  1.56345387e-02,  6.10519013e-02,\n",
              "        2.21114865e-01,  5.46889225e-02,  6.98369546e-02, -5.98493156e-02,\n",
              "        1.11449694e-01, -7.25539819e-02,  2.05486587e-02, -3.93775071e-02,\n",
              "       -7.94149149e-02,  1.52145959e-01, -1.66779761e-02,  2.47484337e-02,\n",
              "        3.64475900e-03,  4.37671298e-02, -6.28391855e-02, -9.81698254e-02,\n",
              "        1.34827108e-01,  7.41190004e-02,  1.06092280e-01, -9.34519260e-02,\n",
              "        2.28817334e-02, -8.94950840e-02, -3.24199554e-02, -1.16119889e-02,\n",
              "       -1.52409983e-02, -8.38940482e-02, -6.22405119e-02,  6.90871607e-03,\n",
              "       -3.82218035e-02,  4.36201027e-02,  1.78982729e-01,  3.89926889e-02,\n",
              "       -1.15085890e-01, -2.38523961e-01, -4.20324877e-02,  1.45386962e-01,\n",
              "        8.36587041e-02,  1.28409543e-01,  9.68798009e-02, -1.62139821e-01,\n",
              "        5.19865674e-02,  1.42077230e-01, -1.34544214e-01,  1.02647447e-01,\n",
              "        3.76409788e-02, -7.16228412e-02,  6.90581517e-02, -2.16255481e-02,\n",
              "        3.16164785e-02, -1.03929457e-02, -3.76239288e-02, -3.01578582e-02,\n",
              "        2.11522863e-01, -2.91279240e-01, -1.75013672e-01,  3.51417104e-02,\n",
              "       -1.98028840e-01, -6.36627312e-02, -1.66029539e-01, -6.35424522e-02,\n",
              "        2.84532996e-02, -1.26711101e-01,  6.32294095e-02,  5.58088815e-02,\n",
              "        1.34002172e-01,  5.81369304e-02, -9.58391990e-03, -1.24944750e-01,\n",
              "        1.54617747e-01,  3.04422609e-02,  8.89201036e-02, -1.51868895e-01,\n",
              "       -3.78176606e-02, -1.59277385e-02,  5.00982956e-02, -1.92215791e-01,\n",
              "       -1.04248265e-01, -9.44535469e-02,  1.78342744e-01, -3.65013642e-02,\n",
              "       -6.39681390e-02, -1.34925229e-01,  1.01886220e-01,  4.26054489e-02,\n",
              "        9.30996939e-03,  3.94890090e-02,  3.15212733e-03, -1.87550167e-03,\n",
              "       -1.29742248e-01,  1.03896360e-02, -1.62843502e-01, -1.28649868e-01,\n",
              "       -1.25099750e-01,  6.83225956e-03, -9.59317385e-02, -1.30683157e-02,\n",
              "        3.66700788e-02, -8.08783370e-02,  2.11911489e-02, -2.56645794e-02,\n",
              "        6.51368809e-02, -1.19421408e-01,  5.28144785e-02, -1.19547555e-02,\n",
              "        4.42582736e-02,  5.04136421e-02,  4.67257325e-02,  1.58058664e-02,\n",
              "        6.28883251e-02, -5.45493834e-02, -6.77241622e-02, -8.68720636e-02,\n",
              "        1.19598942e-01,  1.28119580e-01, -7.22524694e-02, -8.80422147e-02,\n",
              "       -2.80150136e-02, -3.65722913e-02, -6.51790466e-02,  1.04318398e-01,\n",
              "       -4.92995551e-02, -1.73088139e-01,  7.25090720e-02,  2.19188316e-01,\n",
              "       -5.66583451e-02,  1.73148223e-01,  8.19116031e-03,  4.03672673e-02,\n",
              "       -1.04615798e-01,  5.12651711e-02,  2.78197322e-02, -5.81745011e-03,\n",
              "        8.98783383e-03,  1.12455360e-01,  5.51513848e-02,  4.43567453e-02,\n",
              "       -9.39389300e-02, -3.16348442e-02,  6.14506792e-02, -2.72096581e-01,\n",
              "        6.75585740e-02, -3.36738311e-01,  2.29297491e-02, -1.39922415e-01,\n",
              "        1.81872453e-03,  3.23048212e-02,  7.83923862e-02,  1.44895198e-01,\n",
              "        9.58536278e-02,  7.17874849e-02,  1.75255350e-01,  8.95984718e-02,\n",
              "        1.42685470e-02, -8.30769819e-02, -4.01414280e-02, -2.88843559e-02,\n",
              "       -5.55673201e-03, -4.63769519e-05,  1.81400609e-01,  7.90703097e-02,\n",
              "        3.76347435e-02, -7.37282437e-02,  1.63362182e-01,  2.57178634e-03,\n",
              "        3.53317989e-04, -1.07714959e-01, -3.99070337e-02, -3.79074470e-02,\n",
              "        6.02966315e-02, -1.34870823e-01,  2.43324281e-02,  4.55100139e-02,\n",
              "        4.34262193e-02,  1.50050403e-01,  8.73781582e-02,  1.56961327e-03,\n",
              "       -2.52657461e-02,  1.09681217e-01,  4.24313513e-02, -1.72045258e-01,\n",
              "        1.86422908e-01,  2.40689904e-02,  9.68507092e-02,  2.66278613e-02,\n",
              "        3.20718496e-02, -2.09847648e-02, -4.49347753e-02, -5.48202931e-02,\n",
              "        7.72791127e-02,  3.50934159e-02,  7.88354414e-03, -7.39645251e-02,\n",
              "       -3.85097544e-02,  1.55415496e-01,  7.20686299e-02,  1.15138927e-02,\n",
              "        3.96422389e-02, -4.87154945e-02, -5.17593490e-02,  1.93358738e-01,\n",
              "       -8.60586837e-02, -1.49405812e-01, -1.12487820e-01,  1.44207242e-01,\n",
              "        2.34000460e-04, -1.26801729e-01,  4.62403548e-02,  4.16078768e-02,\n",
              "        3.06228285e-02,  4.10742446e-02,  1.47602195e-02,  1.52860660e-01,\n",
              "       -1.80183649e-01,  5.02492401e-02, -1.30789676e-01,  5.73899887e-02,\n",
              "        7.09635046e-02,  1.64265145e-02,  2.38532792e-02,  4.83001106e-02,\n",
              "       -2.16411227e-04, -2.58042623e-02, -4.31971592e-03, -2.84597147e-02,\n",
              "        2.66777394e-03, -1.69140541e-01,  6.49383955e-02, -2.56854023e-01,\n",
              "       -1.27117021e-01, -1.85014392e-01,  2.18857493e-01,  8.79166014e-02,\n",
              "       -1.13673413e-01, -2.98684905e-02, -1.27287152e-02, -1.95351240e-01,\n",
              "       -2.58188089e-02,  9.17514288e-02,  3.47506821e-01, -1.34439681e-01,\n",
              "       -6.66533466e-02, -6.02076706e-02, -2.39555792e-01,  1.24219947e-01,\n",
              "        4.86189393e-02, -7.71335300e-02, -3.37327823e-02,  1.65613637e-01,\n",
              "       -4.40863759e-02, -6.46192745e-02, -1.02465670e-01,  4.90276750e-03,\n",
              "        3.73433877e-02, -4.82374271e-02,  8.35121828e-02,  6.80158770e-02,\n",
              "       -6.15535063e-02, -4.85267848e-02, -3.05328801e-02,  2.22517365e-01,\n",
              "       -8.57197018e-02, -4.83644788e-02, -1.27898648e-01, -1.20275154e-02,\n",
              "       -1.31739205e-01, -1.11976207e-02,  5.83934302e-02, -6.21100869e-02])"
            ]
          },
          "metadata": {},
          "execution_count": 115
        }
      ]
    },
    {
      "cell_type": "markdown",
      "source": [
        "EXERCISE"
      ],
      "metadata": {
        "id": "HGkqSwv50skp"
      }
    },
    {
      "cell_type": "markdown",
      "source": [
        "Simulate a six-sided dice using numpy.random.choice(), generate a list of values you would obtain from 10 throws. Simulate a two-sided coin toss that is NOT fair: it is twice as likely to have head than tails."
      ],
      "metadata": {
        "id": "AzO7RyCe00sP"
      }
    },
    {
      "cell_type": "code",
      "source": [
        "np.random.choice([1,2,3,4,5,6],10)"
      ],
      "metadata": {
        "colab": {
          "base_uri": "https://localhost:8080/"
        },
        "id": "FnoMszm-0uQB",
        "outputId": "2a2a93fc-f021-4791-d811-75211aa6e62e"
      },
      "execution_count": 116,
      "outputs": [
        {
          "output_type": "execute_result",
          "data": {
            "text/plain": [
              "array([1, 6, 4, 5, 2, 5, 5, 4, 1, 4])"
            ]
          },
          "metadata": {},
          "execution_count": 116
        }
      ]
    },
    {
      "cell_type": "code",
      "source": [
        "toss=np.random.choice(['Head','Head','Tail'],10)"
      ],
      "metadata": {
        "id": "PxW9J2XJ05ih"
      },
      "execution_count": 117,
      "outputs": []
    },
    {
      "cell_type": "code",
      "source": [
        "toss"
      ],
      "metadata": {
        "colab": {
          "base_uri": "https://localhost:8080/"
        },
        "id": "iVHJ8qJF08yx",
        "outputId": "774a0a30-c660-4de4-d17c-7d1eadee0718"
      },
      "execution_count": 119,
      "outputs": [
        {
          "output_type": "execute_result",
          "data": {
            "text/plain": [
              "array(['Tail', 'Tail', 'Head', 'Head', 'Head', 'Tail', 'Head', 'Tail',\n",
              "       'Head', 'Head'], dtype='<U4')"
            ]
          },
          "metadata": {},
          "execution_count": 119
        }
      ]
    }
  ]
}